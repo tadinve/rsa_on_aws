{
  "nbformat": 4,
  "nbformat_minor": 0,
  "metadata": {
    "colab": {
      "name": "00 TF Cadabra Infra Setup.ipynb",
      "provenance": [],
      "collapsed_sections": [],
      "include_colab_link": true
    },
    "kernelspec": {
      "name": "python3",
      "display_name": "Python 3"
    },
    "accelerator": "GPU"
  },
  "cells": [
    {
      "cell_type": "markdown",
      "metadata": {
        "id": "view-in-github",
        "colab_type": "text"
      },
      "source": [
        "<a href=\"https://colab.research.google.com/github/tadinve/rsa_on_aws/blob/main/notebooks/00_TF_Cadabra_Infra_Setup.ipynb\" target=\"_parent\"><img src=\"https://colab.research.google.com/assets/colab-badge.svg\" alt=\"Open In Colab\"/></a>"
      ]
    },
    {
      "cell_type": "markdown",
      "metadata": {
        "id": "1De4a8qrBH69"
      },
      "source": [
        "\n",
        "## Do this only Once\n",
        "- Create an account in AWS\n",
        "- Create an IAM User and downlod credentials file (you will need access and secret key)\n",
        "\n"
      ]
    },
    {
      "cell_type": "markdown",
      "metadata": {
        "id": "Wm6hEE5zRrpW"
      },
      "source": [
        "#Connect to Google Drive"
      ]
    },
    {
      "cell_type": "code",
      "metadata": {
        "id": "s6Qvxai24guQ"
      },
      "source": [
        "from google.colab import drive\n",
        "drive.mount('/gdrive')"
      ],
      "execution_count": null,
      "outputs": []
    },
    {
      "cell_type": "markdown",
      "metadata": {
        "id": "gSbGForio2u3"
      },
      "source": [
        "http://checkip.dyndns.org"
      ]
    },
    {
      "cell_type": "code",
      "metadata": {
        "id": "iCsJs-4yO5G4"
      },
      "source": [
        "#these need to be changed\n",
        "%env TF_VAR_name_initials=\n",
        "%env TF_VAR_user_phone=\n",
        "%env TF_VAR_user_ipaddress="
      ],
      "execution_count": null,
      "outputs": []
    },
    {
      "cell_type": "code",
      "metadata": {
        "id": "dv3ZvxSWPJh3"
      },
      "source": [
        "#change these if you want\n",
        "%env TF_VAR_redshift_user=\n",
        "%env TF_VAR_redshift_password="
      ],
      "execution_count": null,
      "outputs": []
    },
    {
      "cell_type": "markdown",
      "metadata": {
        "id": "mYJkZeJC5vtq"
      },
      "source": [
        "# Step 0 - AWS and Terraform CLI Download and Setup"
      ]
    },
    {
      "cell_type": "markdown",
      "metadata": {
        "id": "NoSk2ISdSz8S"
      },
      "source": [
        "## Download and Install AWS CLI"
      ]
    },
    {
      "cell_type": "code",
      "metadata": {
        "id": "CLzpxc8VMKxd"
      },
      "source": [
        "%%bash\n",
        "curl \"https://awscli.amazonaws.com/awscli-exe-linux-x86_64.zip\" -o \"awscliv2.zip\"\n",
        "unzip -qq awscliv2.zip\n",
        "sudo ./aws/install"
      ],
      "execution_count": null,
      "outputs": []
    },
    {
      "cell_type": "code",
      "metadata": {
        "id": "ixTuxjpipJfW"
      },
      "source": [
        "!aws --version"
      ],
      "execution_count": null,
      "outputs": []
    },
    {
      "cell_type": "markdown",
      "metadata": {
        "id": "iLX72XDP9-is"
      },
      "source": [
        "## Download and Install Terraform"
      ]
    },
    {
      "cell_type": "code",
      "metadata": {
        "id": "XC7FNHzrRDY7"
      },
      "source": [
        "TF_Ver = \"0.14.8\"\n",
        "!wget -qq https://releases.hashicorp.com/terraform/{TF_Ver}/terraform_{TF_Ver}_linux_amd64.zip\n",
        "!unzip terraform_{TF_Ver}_linux_amd64.zip && rm terraform_{TF_Ver}_linux_amd64.zip && mv terraform /usr/local/bin/"
      ],
      "execution_count": null,
      "outputs": []
    },
    {
      "cell_type": "code",
      "metadata": {
        "id": "m1uY-rXx7gH4"
      },
      "source": [
        "!terraform --version"
      ],
      "execution_count": null,
      "outputs": []
    },
    {
      "cell_type": "markdown",
      "metadata": {
        "id": "FSgluNcR4H36"
      },
      "source": [
        "# Step 1 - Terraform Setup\n"
      ]
    },
    {
      "cell_type": "markdown",
      "metadata": {
        "id": "d9vWInvMTQNy"
      },
      "source": [
        "## Directory Variables \n",
        "\n",
        "- You can leave them as they are or modify them as you please.\n",
        "- These directorys will be in Google Drive (beginning with gdrive) will outlast the Colab Instance\n",
        "- Files in directories not beginning with gdrive will disappear at the end of Colab session"
      ]
    },
    {
      "cell_type": "code",
      "metadata": {
        "id": "u4it_odbqqEu"
      },
      "source": [
        "#python variables\n",
        "AWS_CRED_DIR = \"/gdrive/MyDrive/AWS/ca_dev/\"\n",
        "AWS_CRED_FILE = AWS_CRED_DIR + \"credentials\"\n",
        "AWS_CONF_FILE = AWS_CRED_DIR + \"config\"\n",
        "TF_DIR = \"/gdrive/MyDrive/AWS/TF/Cadabra\"\n",
        "#DATA_DIR = \"/data/\"\n"
      ],
      "execution_count": null,
      "outputs": []
    },
    {
      "cell_type": "code",
      "metadata": {
        "id": "PQcUUJ_RogTD"
      },
      "source": [
        "#shell variables using python variables\n",
        "import os\n",
        "os.environ['AWS_CRED_DIR'] = AWS_CRED_DIR\n",
        "os.environ['AWS_CRED_FILE'] = AWS_CRED_FILE\n",
        "os.environ['AWS_CONF_FILE'] = AWS_CONF_FILE\n",
        "os.environ['TF_DIR'] = TF_DIR"
      ],
      "execution_count": null,
      "outputs": []
    },
    {
      "cell_type": "markdown",
      "metadata": {
        "id": "zmRlVCu0nUnm"
      },
      "source": [
        "## Check for Credentials file\n",
        "\n",
        "https://linuxize.com/post/bash-check-if-file-exists/"
      ]
    },
    {
      "cell_type": "code",
      "metadata": {
        "id": "uSO7s3FLwXzN"
      },
      "source": [
        "if os.path.isfile(AWS_CRED_FILE):\n",
        "  !mkdir -p ~/.aws; cp {AWS_CRED_DIR}c* ~/.aws\n",
        "else:\n",
        "  !aws configure; mkdir -p {AWS_CRED_DIR}; cp  ~/.aws/c* {AWS_CRED_DIR}"
      ],
      "execution_count": null,
      "outputs": []
    },
    {
      "cell_type": "code",
      "metadata": {
        "id": "W2JpPLnThoRy"
      },
      "source": [
        "# This will make aws command works more consistently\n",
        "import os\n",
        "os.environ['AWS_PROFILE'] = \"default\""
      ],
      "execution_count": null,
      "outputs": []
    },
    {
      "cell_type": "code",
      "metadata": {
        "id": "6X3xaphDCsES"
      },
      "source": [
        "#Read the credentials and capture access key and secret key in python variables\n",
        "f = open(AWS_CRED_FILE)\n",
        "f.readline()\n",
        "access_key = f.readline().split(\"=\")[1].strip()\n",
        "secret_key = f.readline().split(\"=\")[1].strip()\n",
        "f.close()\n",
        "\n",
        "aws_region = 'us-east-1'\n",
        "\n",
        "try:\n",
        "  f = open(AWS_CONF_FILE)\n",
        "  for i in range(3):\n",
        "    line = f.readline()\n",
        "    if line.split('=')[0].strip() == 'region':\n",
        "      aws_region = line.split('=')[1].strip()\n",
        "  f.close()\n",
        "except:\n",
        "  aws_region = 'us-east-1'\n",
        "\n",
        "print(aws_region)"
      ],
      "execution_count": null,
      "outputs": []
    },
    {
      "cell_type": "code",
      "metadata": {
        "id": "ZJtrd2l9Hy_B"
      },
      "source": [
        "!aws s3 ls"
      ],
      "execution_count": null,
      "outputs": []
    },
    {
      "cell_type": "markdown",
      "metadata": {
        "id": "BDxQ8mfTDNW0"
      },
      "source": [
        "## Create the Provider File and Initialize Terraform"
      ]
    },
    {
      "cell_type": "code",
      "metadata": {
        "id": "T36qyr8tpPxc"
      },
      "source": [
        "# Create Terraform working directory\n",
        "!mkdir -p $TF_DIR\n",
        "%cd $TF_DIR"
      ],
      "execution_count": null,
      "outputs": []
    },
    {
      "cell_type": "code",
      "metadata": {
        "id": "vkbHY-t4yHgp"
      },
      "source": [
        "#Define env variables for TF authentication\n",
        "os.environ['AWS_ACCESS_KEY_ID'] = access_key\n",
        "os.environ['AWS_SECRET_ACCESS_KEY'] = secret_key\n",
        "\n",
        "# Define Terraform config variables\n",
        "os.environ['AWS_DEFAULT_REGION'] = aws_region\n",
        "\n",
        "# Other variables that can be defined\n",
        "os.environ['AWS_SHARED_CREDENTIALS_FILE'] = ''\n",
        "os.environ['AWS_PROFILE'] = ''\n",
        "os.environ['AWS_SESSION_TOKEN'] = ''"
      ],
      "execution_count": null,
      "outputs": []
    },
    {
      "cell_type": "code",
      "metadata": {
        "id": "SDmUU1RNQHPS"
      },
      "source": [
        "!if  [ ! -d \"rsa_on_aws\" ]; then git clone https://github.com/tadinve/rsa_on_aws.git; fi\n",
        "%cd rsa_on_aws\n",
        "!git pull https://github.com/tadinve/rsa_on_aws.git"
      ],
      "execution_count": null,
      "outputs": []
    },
    {
      "cell_type": "code",
      "metadata": {
        "id": "43nwbDDmQzeg"
      },
      "source": [
        "%cd src/infrastucture_install_files/terraform_files"
      ],
      "execution_count": null,
      "outputs": []
    },
    {
      "cell_type": "code",
      "metadata": {
        "id": "ZSzHfyQ14mC0"
      },
      "source": [
        "!cat provider.tf"
      ],
      "execution_count": null,
      "outputs": []
    },
    {
      "cell_type": "code",
      "metadata": {
        "id": "WpHeU9S6m-Dm"
      },
      "source": [
        "!cat  variables.tf"
      ],
      "execution_count": null,
      "outputs": []
    },
    {
      "cell_type": "code",
      "metadata": {
        "id": "YQqkniPjXKUZ"
      },
      "source": [
        "# Clear lock from previous run it it exists\n",
        "!rm .terraform.lock.hcl"
      ],
      "execution_count": null,
      "outputs": []
    },
    {
      "cell_type": "code",
      "metadata": {
        "id": "Dk0P1T747dk6"
      },
      "source": [
        "!terraform init"
      ],
      "execution_count": null,
      "outputs": []
    },
    {
      "cell_type": "markdown",
      "metadata": {
        "id": "yuxJw5eJEFDV"
      },
      "source": [
        "# Step 2 - Create Infra for Pipeline Kinesis(agent) -> Firehose -> Glue -> Athena\n"
      ]
    },
    {
      "cell_type": "markdown",
      "metadata": {
        "id": "CYDN4PrUWPvf"
      },
      "source": [
        "##Step 2.1 - Create Kinesis Firehose to S3"
      ]
    },
    {
      "cell_type": "markdown",
      "metadata": {
        "id": "ivRevmxgJg_f"
      },
      "source": [
        "### Create Firehose Target Bucket"
      ]
    },
    {
      "cell_type": "code",
      "metadata": {
        "id": "qGYZ_lqQJg_n"
      },
      "source": [
        "!cat s3_firehose_bucket.tf"
      ],
      "execution_count": null,
      "outputs": []
    },
    {
      "cell_type": "markdown",
      "metadata": {
        "id": "NFpBnSJdS8kV"
      },
      "source": [
        "### Create IAM Role for Kinesis Firehose Delivery Stream"
      ]
    },
    {
      "cell_type": "code",
      "metadata": {
        "id": "XnDgmnhHHFQr"
      },
      "source": [
        "!cat iam_kinesis_firehose.tf"
      ],
      "execution_count": null,
      "outputs": []
    },
    {
      "cell_type": "markdown",
      "metadata": {
        "id": "UFRVg3n6G2-n"
      },
      "source": [
        "### Create Kinesis Firehose"
      ]
    },
    {
      "cell_type": "markdown",
      "metadata": {
        "id": "PT9zJZ44S8zA"
      },
      "source": [
        "https://registry.terraform.io/providers/hashicorp/aws/latest/docs/resources/kinesis_firehose_delivery_stream"
      ]
    },
    {
      "cell_type": "code",
      "metadata": {
        "id": "AVUIJ0xoGvfh"
      },
      "source": [
        "!cat firehose.tf"
      ],
      "execution_count": null,
      "outputs": []
    },
    {
      "cell_type": "markdown",
      "metadata": {
        "id": "telE5G59KP6D"
      },
      "source": [
        "## Step 2.2 - Create AWS Glue Crawler"
      ]
    },
    {
      "cell_type": "markdown",
      "metadata": {
        "id": "Nm6E0_6u4QXv"
      },
      "source": [
        "### Create AWS Glue Role and Policy"
      ]
    },
    {
      "cell_type": "code",
      "metadata": {
        "id": "EDWsyR7SLiAq"
      },
      "source": [
        "!cat iam_gluerole.tf"
      ],
      "execution_count": null,
      "outputs": []
    },
    {
      "cell_type": "markdown",
      "metadata": {
        "id": "9qECMrIoTLkY"
      },
      "source": [
        "### Create Glue Database and Crawler"
      ]
    },
    {
      "cell_type": "code",
      "metadata": {
        "id": "a4pLEk9nsTdj"
      },
      "source": [
        "!cat gluedb_crawler.tf"
      ],
      "execution_count": null,
      "outputs": []
    },
    {
      "cell_type": "markdown",
      "metadata": {
        "id": "qrMrXusbfa1n"
      },
      "source": [
        "#Step 3 - Create Infra for Data pipeline Kinesis(agent) -> datastream -> Lambda -> DynamoDB"
      ]
    },
    {
      "cell_type": "markdown",
      "metadata": {
        "id": "VtwaK0xalfCO"
      },
      "source": [
        "##Step 3.1 - Create Kinesis DataStream"
      ]
    },
    {
      "cell_type": "code",
      "metadata": {
        "id": "CnuQSyhallsb"
      },
      "source": [
        "!cat kinesis_datastream_orders.tf"
      ],
      "execution_count": null,
      "outputs": []
    },
    {
      "cell_type": "markdown",
      "metadata": {
        "id": "bed4BHgNhsPv"
      },
      "source": [
        "##Step 3.2 - Create Lambda Function"
      ]
    },
    {
      "cell_type": "markdown",
      "metadata": {
        "id": "5TP6_raziIFR"
      },
      "source": [
        "### Create IAM Role for Lambda Function"
      ]
    },
    {
      "cell_type": "code",
      "metadata": {
        "id": "NM4bfRyLtacu"
      },
      "source": [
        "!cat iam_lambda_role.tf"
      ],
      "execution_count": null,
      "outputs": []
    },
    {
      "cell_type": "markdown",
      "metadata": {
        "id": "_O9kXF10gzBi"
      },
      "source": [
        "###Create Lambda Function Code"
      ]
    },
    {
      "cell_type": "code",
      "metadata": {
        "id": "hhfwnUhafZGg"
      },
      "source": [
        "%cp {TF_DIR}/rsa_on_aws/src/python_code/*.zip ."
      ],
      "execution_count": null,
      "outputs": []
    },
    {
      "cell_type": "markdown",
      "metadata": {
        "id": "HQovDDlejvK3"
      },
      "source": [
        "###Create Lambda Function to Process Cadabra Order"
      ]
    },
    {
      "cell_type": "code",
      "metadata": {
        "id": "7aaG_-UcwBu3"
      },
      "source": [
        "!cat lambda_order_processing.tf"
      ],
      "execution_count": null,
      "outputs": []
    },
    {
      "cell_type": "markdown",
      "metadata": {
        "id": "zJB5f1OCnGsx"
      },
      "source": [
        "##Step 3.3 - Create DynamoDB Table"
      ]
    },
    {
      "cell_type": "code",
      "metadata": {
        "id": "zysajdEsnWu2"
      },
      "source": [
        "!cat dynamodb.tf"
      ],
      "execution_count": null,
      "outputs": []
    },
    {
      "cell_type": "markdown",
      "metadata": {
        "id": "4Y_Lx_VVcwzP"
      },
      "source": [
        "# Step 4 - Create Infra for S3 -> Redshift -> Quicksight"
      ]
    },
    {
      "cell_type": "markdown",
      "metadata": {
        "id": "kJpTD0tD5NmE"
      },
      "source": [
        "## Step 4.1 Create Redshift Cluster"
      ]
    },
    {
      "cell_type": "code",
      "metadata": {
        "id": "LV7K1m3Y5Mya"
      },
      "source": [
        "!cat redshift_cluster.tf"
      ],
      "execution_count": null,
      "outputs": []
    },
    {
      "cell_type": "markdown",
      "metadata": {
        "id": "2Zh5VHbldTRf"
      },
      "source": [
        "## Step 4.2 Redshift Role"
      ]
    },
    {
      "cell_type": "code",
      "metadata": {
        "id": "4zJEXXKOdZ3p"
      },
      "source": [
        "!cat iam_redshift_role.tf"
      ],
      "execution_count": null,
      "outputs": []
    },
    {
      "cell_type": "markdown",
      "metadata": {
        "id": "K0fUOf9-eYyO"
      },
      "source": [
        "# Step 5 - Create Infra for Datastream -> Kinesis Analytics -> Datastream -> Lambda -> SNS"
      ]
    },
    {
      "cell_type": "markdown",
      "metadata": {
        "id": "iUaUBqBsfdGc"
      },
      "source": [
        "## Step 5.1 Create Kinesis Datastream"
      ]
    },
    {
      "cell_type": "code",
      "metadata": {
        "id": "P3I5VmCbe5tk"
      },
      "source": [
        "!cat kinesis_datastream_orders.tf"
      ],
      "execution_count": null,
      "outputs": []
    },
    {
      "cell_type": "markdown",
      "metadata": {
        "id": "p7fY0WVOfo8_"
      },
      "source": [
        "## Step 5.2 Create Kinesis Application Role and Policy"
      ]
    },
    {
      "cell_type": "code",
      "metadata": {
        "id": "NYzbNVTHfyGC"
      },
      "source": [
        "!cat iam_kinesis_app_role.tf"
      ],
      "execution_count": null,
      "outputs": []
    },
    {
      "cell_type": "markdown",
      "metadata": {
        "id": "cMXVMYuUgyr2"
      },
      "source": [
        "## Step 5.3 Create Kinesis Application"
      ]
    },
    {
      "cell_type": "code",
      "metadata": {
        "id": "n8jYocOog4dX"
      },
      "source": [
        "!cat kinesis_analytics_application.tf"
      ],
      "execution_count": null,
      "outputs": []
    },
    {
      "cell_type": "code",
      "metadata": {
        "id": "AojSALgOnW8J"
      },
      "source": [
        "#Copy the analytics application code to create application\n",
        "%cp {TF_DIR}/rsa_on_aws/src/sql_code/*.sql ."
      ],
      "execution_count": null,
      "outputs": []
    },
    {
      "cell_type": "markdown",
      "metadata": {
        "id": "Nns2UpiMhWB6"
      },
      "source": [
        "## Step 5.4 Create Kinesis Rate Alarm Datastream for Kinesis Application Output"
      ]
    },
    {
      "cell_type": "code",
      "metadata": {
        "id": "3og8KEM7hh4e"
      },
      "source": [
        "!cat kinesis_datastream_ratealarm.tf"
      ],
      "execution_count": null,
      "outputs": []
    },
    {
      "cell_type": "markdown",
      "metadata": {
        "id": "voc0t9luhsz3"
      },
      "source": [
        "## Step 5.5 Create Lambda"
      ]
    },
    {
      "cell_type": "code",
      "metadata": {
        "id": "rJNa1bdLh1vv"
      },
      "source": [
        "!cat lambda_surge_alert.tf"
      ],
      "execution_count": null,
      "outputs": []
    },
    {
      "cell_type": "markdown",
      "metadata": {
        "id": "xQIPj4wjiIfg"
      },
      "source": [
        "## Step 5.6 Create Lambda Role and Policy"
      ]
    },
    {
      "cell_type": "code",
      "metadata": {
        "id": "dryL8UjXiOas"
      },
      "source": [
        "!cat iam_lambda_kinesis_sns_role.tf"
      ],
      "execution_count": null,
      "outputs": []
    },
    {
      "cell_type": "markdown",
      "metadata": {
        "id": "xmgxhZ1FiWuB"
      },
      "source": [
        "## Step 5.7 Attach Trigger to Lambda"
      ]
    },
    {
      "cell_type": "code",
      "metadata": {
        "id": "pEnuhIKfimoz"
      },
      "source": [
        "!cat map_lamdba_trigger_sns_alert.tf"
      ],
      "execution_count": null,
      "outputs": []
    },
    {
      "cell_type": "markdown",
      "metadata": {
        "id": "9kdnv8l8isa3"
      },
      "source": [
        "## Step 5.8 Create SNS Topic"
      ]
    },
    {
      "cell_type": "code",
      "metadata": {
        "id": "A9YM3eBBi3QF"
      },
      "source": [
        "!cat sns_topic_subscription_sms.tf"
      ],
      "execution_count": null,
      "outputs": []
    },
    {
      "cell_type": "markdown",
      "metadata": {
        "id": "xoqzW-Vwj7f4"
      },
      "source": [
        "# Step 6 - Create Infra for Kinesis Delivery Stream -> Lambda -> Elastic Search"
      ]
    },
    {
      "cell_type": "markdown",
      "metadata": {
        "id": "u81z-n7HkfpD"
      },
      "source": [
        "## Step 6.1 - Create Kinesis Weblogs Delivery Stream"
      ]
    },
    {
      "cell_type": "code",
      "metadata": {
        "id": "YwGRqbJ9kp86"
      },
      "source": [
        "!cat kinesis_log_deliverystream.tf"
      ],
      "execution_count": null,
      "outputs": []
    },
    {
      "cell_type": "markdown",
      "metadata": {
        "id": "mdmVJEZZkxlM"
      },
      "source": [
        "## Step 6.2 - Create Role and Policy for Kinesis Delivery Stream to write to ES"
      ]
    },
    {
      "cell_type": "code",
      "metadata": {
        "id": "FiH6rcodlNT2"
      },
      "source": [
        "!cat iam_kinesis_log_role.tf"
      ],
      "execution_count": null,
      "outputs": []
    },
    {
      "cell_type": "markdown",
      "metadata": {
        "id": "3atNFKlQl6tO"
      },
      "source": [
        "## Step 6.3 - Create Elastic Search Domain Policy"
      ]
    },
    {
      "cell_type": "code",
      "metadata": {
        "id": "xD_etoAGmIXa"
      },
      "source": [
        "!cat iam_es_domain_policy.tf"
      ],
      "execution_count": null,
      "outputs": []
    },
    {
      "cell_type": "markdown",
      "metadata": {
        "id": "F_MniNyRmOIf"
      },
      "source": [
        "## Step 6.4 - Create Elastic Search Domain"
      ]
    },
    {
      "cell_type": "code",
      "metadata": {
        "id": "oB366A64mUKm"
      },
      "source": [
        "!cat es_domain.tf"
      ],
      "execution_count": null,
      "outputs": []
    },
    {
      "cell_type": "markdown",
      "metadata": {
        "id": "leb7Tx97mX39"
      },
      "source": [
        "## Step 6.5 - Create Lambda Processor and Role"
      ]
    },
    {
      "cell_type": "code",
      "metadata": {
        "id": "hlb9E3usmeP4"
      },
      "source": [
        "!cat iam_lambda_weblog_deliverystream_role.tf"
      ],
      "execution_count": null,
      "outputs": []
    },
    {
      "cell_type": "code",
      "metadata": {
        "id": "dTHJxRRqmiAe"
      },
      "source": [
        "!cat lambda_process_weblogs.tf"
      ],
      "execution_count": null,
      "outputs": []
    },
    {
      "cell_type": "code",
      "metadata": {
        "id": "_rCWMw7LnA6D"
      },
      "source": [
        "#Copy Lambda Code for processing weblogs\n",
        "%cp {TF_DIR}/rsa_on_aws/src/javascript_code/*.zip ."
      ],
      "execution_count": null,
      "outputs": []
    },
    {
      "cell_type": "markdown",
      "metadata": {
        "id": "_LH1Kn5qTTSd"
      },
      "source": [
        "# Step 7 - Terraform Plan and Apply"
      ]
    },
    {
      "cell_type": "code",
      "metadata": {
        "id": "3EOWQR9WVkC3"
      },
      "source": [
        "!terraform plan"
      ],
      "execution_count": null,
      "outputs": []
    },
    {
      "cell_type": "code",
      "metadata": {
        "id": "YZvPhGMBVuFB"
      },
      "source": [
        "!terraform apply -auto-approve "
      ],
      "execution_count": null,
      "outputs": []
    },
    {
      "cell_type": "code",
      "metadata": {
        "id": "VqRpYBvBi7cB"
      },
      "source": [
        "!ls -alh"
      ],
      "execution_count": null,
      "outputs": []
    },
    {
      "cell_type": "markdown",
      "metadata": {
        "id": "IAOJbiG2gx-f"
      },
      "source": [
        "# Step 8 - Terraform Destroy"
      ]
    },
    {
      "cell_type": "code",
      "metadata": {
        "id": "OV1IlApBRGbb"
      },
      "source": [
        "!terraform state list"
      ],
      "execution_count": null,
      "outputs": []
    },
    {
      "cell_type": "code",
      "metadata": {
        "id": "Fbdlyl8FhUqz"
      },
      "source": [
        "!terraform destroy "
      ],
      "execution_count": null,
      "outputs": []
    },
    {
      "cell_type": "code",
      "metadata": {
        "id": "Ro--UgKgp1b4"
      },
      "source": [
        ""
      ],
      "execution_count": null,
      "outputs": []
    }
  ]
}