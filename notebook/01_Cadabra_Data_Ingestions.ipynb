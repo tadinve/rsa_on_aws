{
  "nbformat": 4,
  "nbformat_minor": 0,
  "metadata": {
    "colab": {
      "name": "01 Cadabra Data Ingestions.ipynb",
      "provenance": [],
      "collapsed_sections": [
        "uPrkSIssJCCq",
        "m1pVTGI7JNW_",
        "JY0xxq_x7LQ-",
        "EPmohfzuVwp3",
        "J4DKbixDV0_N",
        "7t5S3u9BWIgv",
        "2okU2OA1WL7b"
      ],
      "include_colab_link": true
    },
    "kernelspec": {
      "name": "python3",
      "display_name": "Python 3"
    }
  },
  "cells": [
    {
      "cell_type": "markdown",
      "metadata": {
        "id": "view-in-github",
        "colab_type": "text"
      },
      "source": [
        "<a href=\"https://colab.research.google.com/github/tadinve/rsa_on_aws/blob/main/notebook/01_Cadabra_Data_Ingestions.ipynb\" target=\"_parent\"><img src=\"https://colab.research.google.com/assets/colab-badge.svg\" alt=\"Open In Colab\"/></a>"
      ]
    },
    {
      "cell_type": "markdown",
      "metadata": {
        "id": "mYJkZeJC5vtq"
      },
      "source": [
        "# Step 0 - AWS Setup"
      ]
    },
    {
      "cell_type": "markdown",
      "metadata": {
        "id": "1De4a8qrBH69"
      },
      "source": [
        "\n",
        "1. Do this only Once\n",
        "- Create an account in AWS\n",
        "- Create an IAM User and downlod credentials file (you will need access and secret key)\n",
        "- run aws init\n",
        "- copy credentials file to AWS_CRED_DIR\n"
      ]
    },
    {
      "cell_type": "code",
      "metadata": {
        "id": "CLzpxc8VMKxd",
        "colab": {
          "base_uri": "https://localhost:8080/"
        },
        "outputId": "08233d9c-a226-49a7-8ef6-f8bf6904e671"
      },
      "source": [
        "%%bash\n",
        "curl \"https://awscli.amazonaws.com/awscli-exe-linux-x86_64.zip\" -o \"awscliv2.zip\"\n",
        "unzip -qq awscliv2.zip\n",
        "sudo ./aws/install"
      ],
      "execution_count": null,
      "outputs": [
        {
          "output_type": "stream",
          "text": [
            "You can now run: /usr/local/bin/aws --version\n"
          ],
          "name": "stdout"
        },
        {
          "output_type": "stream",
          "text": [
            "  % Total    % Received % Xferd  Average Speed   Time    Time     Time  Current\n",
            "                                 Dload  Upload   Total   Spent    Left  Speed\n",
            "\r  0     0    0     0    0     0      0      0 --:--:-- --:--:-- --:--:--     0\r100 41.4M  100 41.4M    0     0   172M      0 --:--:-- --:--:-- --:--:--  172M\n"
          ],
          "name": "stderr"
        }
      ]
    },
    {
      "cell_type": "code",
      "metadata": {
        "id": "s6Qvxai24guQ",
        "colab": {
          "base_uri": "https://localhost:8080/"
        },
        "outputId": "ef53373e-bbbf-4a94-da5b-a640df38d1f6"
      },
      "source": [
        "from google.colab import drive\n",
        "drive.mount('/gdrive')"
      ],
      "execution_count": null,
      "outputs": [
        {
          "output_type": "stream",
          "text": [
            "Mounted at /gdrive\n"
          ],
          "name": "stdout"
        }
      ]
    },
    {
      "cell_type": "markdown",
      "metadata": {
        "id": "iZuhjFfVohAB"
      },
      "source": [
        "## Define Directory Variables"
      ]
    },
    {
      "cell_type": "code",
      "metadata": {
        "id": "ftSx-3PJaMCS"
      },
      "source": [
        "def escapeSlash(s):\n",
        "    return s.replace(\"/\",\"\\/\")"
      ],
      "execution_count": null,
      "outputs": []
    },
    {
      "cell_type": "code",
      "metadata": {
        "id": "u4it_odbqqEu"
      },
      "source": [
        "#python variables\n",
        "HOME = \"/root\"\n",
        "AWS_CRED_DIR = \"/gdrive/MyDrive/AWS/ca_dev/\"\n",
        "AWS_CRED_FILE = AWS_CRED_DIR + \"credentials\"\n",
        "AWS_CONFIG_FILE = AWS_CRED_DIR + \"config\"\n",
        "TF_DIR = \"/gdrive/MyDrive/AWS/AWS-TF/Cadabra\"\n",
        "TRANSACTIONS_DIR=\"/data/\"\n",
        "NAME_INITIALS = \"\" #ADD YOUR NAME INTIALS **********************************"
      ],
      "execution_count": null,
      "outputs": []
    },
    {
      "cell_type": "code",
      "metadata": {
        "id": "PQcUUJ_RogTD",
        "colab": {
          "base_uri": "https://localhost:8080/"
        },
        "outputId": "88f700ea-548f-4283-e226-31f2f13dcd36"
      },
      "source": [
        "#shell variables using python variables\n",
        "%env AWS_CRED_DIR={AWS_CRED_DIR}\n",
        "%env AWS_CRED_FILE={AWS_CRED_FILE}"
      ],
      "execution_count": null,
      "outputs": [
        {
          "output_type": "stream",
          "text": [
            "env: AWS_CRED_DIR=/gdrive/MyDrive/AWS/ca_dev/\n",
            "env: AWS_CRED_FILE=/gdrive/MyDrive/AWS/ca_dev/credentials\n"
          ],
          "name": "stdout"
        }
      ]
    },
    {
      "cell_type": "markdown",
      "metadata": {
        "id": "zmRlVCu0nUnm"
      },
      "source": [
        "## Check for Credentials file\n",
        "\n",
        "https://linuxize.com/post/bash-check-if-file-exists/"
      ]
    },
    {
      "cell_type": "code",
      "metadata": {
        "id": "l9jVWM94Cey1"
      },
      "source": [
        "%%bash\n",
        "if [ ! -f \"$AWS_CRED_FILE\" ]; then \n",
        "    aws configure \n",
        "fi"
      ],
      "execution_count": null,
      "outputs": []
    },
    {
      "cell_type": "code",
      "metadata": {
        "id": "BEg4jO9fMN5c"
      },
      "source": [
        "!mkdir -p ~/.aws\n",
        "!cp {AWS_CRED_DIR}c* ~/.aws"
      ],
      "execution_count": null,
      "outputs": []
    },
    {
      "cell_type": "code",
      "metadata": {
        "id": "6X3xaphDCsES"
      },
      "source": [
        "#Read the credentials\n",
        "f = open(AWS_CRED_FILE)\n",
        "header = f.readline()\n",
        "line = f.readline().split(\"=\")\n",
        "access_key=line[1].strip()\n",
        "line = f.readline().split(\"=\")\n",
        "secret_key=escapeSlash(line[1].strip())\n",
        "f.close()\n",
        "f = open(AWS_CONFIG_FILE)\n",
        "header = f.readline()\n",
        "line = f.readline().split(\"=\")\n",
        "user_region=line[1].strip()"
      ],
      "execution_count": null,
      "outputs": []
    },
    {
      "cell_type": "code",
      "metadata": {
        "id": "Sie1PqXq96RT"
      },
      "source": [
        "#import os\n",
        "#os.environ[\"AWS_ACCESS_KEY_ID\"]=access_key\n",
        "#os.environ[\"AWS_SECRET_ACCESS_KEY\"]=secret_key\n",
        "#os.environ[\"AWS_DEFAULT_REGION\"]=user_region\n",
        "#os.environ['AWS_PROFILE'] = \"default\""
      ],
      "execution_count": null,
      "outputs": []
    },
    {
      "cell_type": "markdown",
      "metadata": {
        "id": "573G_F7bF7ZL"
      },
      "source": [
        "# Install Kinesis & Start Agent\n",
        "\n"
      ]
    },
    {
      "cell_type": "markdown",
      "metadata": {
        "id": "uPrkSIssJCCq"
      },
      "source": [
        "## Install Java 1.8\n",
        "- needed by Kinesis build\n",
        "- from https://stackoverflow.com/questions/58106622/how-to-change-the-java-version-in-google-colab"
      ]
    },
    {
      "cell_type": "code",
      "metadata": {
        "id": "7C1NKF8QtzY7",
        "colab": {
          "base_uri": "https://localhost:8080/"
        },
        "outputId": "926721ea-aaa9-40d2-8f2c-9f55c3a4a9e8"
      },
      "source": [
        "%cd {HOME}"
      ],
      "execution_count": null,
      "outputs": [
        {
          "output_type": "stream",
          "text": [
            "/root\n"
          ],
          "name": "stdout"
        }
      ]
    },
    {
      "cell_type": "code",
      "metadata": {
        "id": "s3my146JI1TX",
        "colab": {
          "base_uri": "https://localhost:8080/"
        },
        "outputId": "95d88d80-1a36-4464-a435-5d503138c5ca"
      },
      "source": [
        "!sudo apt-get update\n",
        "!apt-get install openjdk-8-jdk-headless -qq > /dev/null\n",
        "import os\n",
        "os.environ[\"JAVA_HOME\"] = \"/usr/lib/jvm/java-8-openjdk-amd64\"\n",
        "!update-alternatives --set java /usr/lib/jvm/java-8-openjdk-amd64/jre/bin/java\n",
        "!java -version"
      ],
      "execution_count": null,
      "outputs": [
        {
          "output_type": "stream",
          "text": [
            "\r0% [Working]\r            \rGet:1 https://cloud.r-project.org/bin/linux/ubuntu bionic-cran40/ InRelease [3,626 B]\n",
            "\r0% [Connecting to archive.ubuntu.com (91.189.88.142)] [Connecting to security.u\r0% [Connecting to archive.ubuntu.com (91.189.88.142)] [Connecting to security.u\r0% [1 InRelease gpgv 3,626 B] [Connecting to archive.ubuntu.com (91.189.88.142)\r                                                                               \rGet:2 http://security.ubuntu.com/ubuntu bionic-security InRelease [88.7 kB]\n",
            "\r0% [1 InRelease gpgv 3,626 B] [Waiting for headers] [2 InRelease 14.2 kB/88.7 k\r                                                                               \rIgn:3 https://developer.download.nvidia.com/compute/cuda/repos/ubuntu1804/x86_64  InRelease\n",
            "\r0% [1 InRelease gpgv 3,626 B] [Waiting for headers] [2 InRelease 34.4 kB/88.7 k\r0% [1 InRelease gpgv 3,626 B] [Waiting for headers] [Waiting for headers] [Wait\r                                                                               \rGet:4 http://ppa.launchpad.net/c2d4u.team/c2d4u4.0+/ubuntu bionic InRelease [15.9 kB]\n",
            "Hit:5 http://archive.ubuntu.com/ubuntu bionic InRelease\n",
            "Ign:6 https://developer.download.nvidia.com/compute/machine-learning/repos/ubuntu1804/x86_64  InRelease\n",
            "Get:7 https://developer.download.nvidia.com/compute/cuda/repos/ubuntu1804/x86_64  Release [697 B]\n",
            "Hit:8 https://developer.download.nvidia.com/compute/machine-learning/repos/ubuntu1804/x86_64  Release\n",
            "Get:9 https://cloud.r-project.org/bin/linux/ubuntu bionic-cran40/ Packages [53.9 kB]\n",
            "Get:10 http://archive.ubuntu.com/ubuntu bionic-updates InRelease [88.7 kB]\n",
            "Get:11 https://developer.download.nvidia.com/compute/cuda/repos/ubuntu1804/x86_64  Release.gpg [836 B]\n",
            "Get:12 http://security.ubuntu.com/ubuntu bionic-security/main amd64 Packages [2,119 kB]\n",
            "Hit:13 http://ppa.launchpad.net/cran/libgit2/ubuntu bionic InRelease\n",
            "Get:14 http://security.ubuntu.com/ubuntu bionic-security/restricted amd64 Packages [399 kB]\n",
            "Get:15 http://security.ubuntu.com/ubuntu bionic-security/multiverse amd64 Packages [24.7 kB]\n",
            "Get:16 http://security.ubuntu.com/ubuntu bionic-security/universe amd64 Packages [1,410 kB]\n",
            "Get:17 http://archive.ubuntu.com/ubuntu bionic-backports InRelease [74.6 kB]\n",
            "Get:18 http://ppa.launchpad.net/deadsnakes/ppa/ubuntu bionic InRelease [15.9 kB]\n",
            "Get:20 http://ppa.launchpad.net/graphics-drivers/ppa/ubuntu bionic InRelease [15.9 kB]\n",
            "Get:21 http://ppa.launchpad.net/c2d4u.team/c2d4u4.0+/ubuntu bionic/main Sources [1,759 kB]\n",
            "Ign:22 https://developer.download.nvidia.com/compute/cuda/repos/ubuntu1804/x86_64  Packages\n",
            "Get:22 https://developer.download.nvidia.com/compute/cuda/repos/ubuntu1804/x86_64  Packages [742 kB]\n",
            "Get:23 http://archive.ubuntu.com/ubuntu bionic-updates/multiverse amd64 Packages [31.6 kB]\n",
            "Get:24 http://archive.ubuntu.com/ubuntu bionic-updates/restricted amd64 Packages [429 kB]\n",
            "Get:25 http://archive.ubuntu.com/ubuntu bionic-updates/universe amd64 Packages [2,181 kB]\n",
            "Get:26 http://ppa.launchpad.net/c2d4u.team/c2d4u4.0+/ubuntu bionic/main amd64 Packages [900 kB]\n",
            "Get:27 http://archive.ubuntu.com/ubuntu bionic-updates/main amd64 Packages [2,550 kB]\n",
            "Get:28 http://ppa.launchpad.net/deadsnakes/ppa/ubuntu bionic/main amd64 Packages [40.3 kB]\n",
            "Get:29 http://ppa.launchpad.net/graphics-drivers/ppa/ubuntu bionic/main amd64 Packages [53.2 kB]\n",
            "Fetched 13.0 MB in 3s (4,392 kB/s)\n",
            "Reading package lists... Done\n",
            "update-alternatives: using /usr/lib/jvm/java-8-openjdk-amd64/jre/bin/java to provide /usr/bin/java (java) in manual mode\n",
            "openjdk version \"1.8.0_292\"\n",
            "OpenJDK Runtime Environment (build 1.8.0_292-8u292-b10-0ubuntu1~18.04-b10)\n",
            "OpenJDK 64-Bit Server VM (build 25.292-b10, mixed mode)\n"
          ],
          "name": "stdout"
        }
      ]
    },
    {
      "cell_type": "markdown",
      "metadata": {
        "id": "m1pVTGI7JNW_"
      },
      "source": [
        "## Get Kinesis Code from Github and Build"
      ]
    },
    {
      "cell_type": "code",
      "metadata": {
        "id": "OMYQWbIdfmeN",
        "colab": {
          "base_uri": "https://localhost:8080/"
        },
        "outputId": "c5cdc3eb-b300-460e-ad68-1dcb166d491e"
      },
      "source": [
        "cd {HOME}"
      ],
      "execution_count": null,
      "outputs": [
        {
          "output_type": "stream",
          "text": [
            "/root\n"
          ],
          "name": "stdout"
        }
      ]
    },
    {
      "cell_type": "code",
      "metadata": {
        "id": "G-jAu0Q7WcdX"
      },
      "source": [
        "KINESIS_AGENT_VER = \"1.1.4\""
      ],
      "execution_count": null,
      "outputs": []
    },
    {
      "cell_type": "code",
      "metadata": {
        "id": "molNz6YECRyQ",
        "colab": {
          "base_uri": "https://localhost:8080/"
        },
        "outputId": "c2f40b78-f3fd-40c0-92ae-f44808514173"
      },
      "source": [
        "!curl -LO https://github.com/awslabs/amazon-kinesis-agent/archive/{KINESIS_AGENT_VER}.tar.gz\n",
        "!tar -xvzf {KINESIS_AGENT_VER}.tar.gz"
      ],
      "execution_count": null,
      "outputs": [
        {
          "output_type": "stream",
          "text": [
            "  % Total    % Received % Xferd  Average Speed   Time    Time     Time  Current\n",
            "                                 Dload  Upload   Total   Spent    Left  Speed\n",
            "100   135  100   135    0     0   1500      0 --:--:-- --:--:-- --:--:--  1500\n",
            "100  238k    0  238k    0     0   910k      0 --:--:-- --:--:-- --:--:-- 1849k\n",
            "amazon-kinesis-agent-1.1.4/\n",
            "amazon-kinesis-agent-1.1.4/.gitignore\n",
            "amazon-kinesis-agent-1.1.4/.travis.yml\n",
            "amazon-kinesis-agent-1.1.4/LICENSE.txt\n",
            "amazon-kinesis-agent-1.1.4/NOTICE.txt\n",
            "amazon-kinesis-agent-1.1.4/README.md\n",
            "amazon-kinesis-agent-1.1.4/bin/\n",
            "amazon-kinesis-agent-1.1.4/bin/aws-kinesis-agent-babysit\n",
            "amazon-kinesis-agent-1.1.4/bin/aws-kinesis-agent-manual-run.sh\n",
            "amazon-kinesis-agent-1.1.4/bin/aws-kinesis-agent.Debian\n",
            "amazon-kinesis-agent-1.1.4/bin/aws-kinesis-agent.RedHat\n",
            "amazon-kinesis-agent-1.1.4/bin/aws-kinesis-agent.Ubuntu\n",
            "amazon-kinesis-agent-1.1.4/bin/start-aws-kinesis-agent\n",
            "amazon-kinesis-agent-1.1.4/build.xml\n",
            "amazon-kinesis-agent-1.1.4/configuration/\n",
            "amazon-kinesis-agent-1.1.4/configuration/example/\n",
            "amazon-kinesis-agent-1.1.4/configuration/example/agent.json\n",
            "amazon-kinesis-agent-1.1.4/configuration/release/\n",
            "amazon-kinesis-agent-1.1.4/configuration/release/aws-kinesis-agent.json\n",
            "amazon-kinesis-agent-1.1.4/pom.xml\n",
            "amazon-kinesis-agent-1.1.4/setup\n",
            "amazon-kinesis-agent-1.1.4/src/\n",
            "amazon-kinesis-agent-1.1.4/src/com/\n",
            "amazon-kinesis-agent-1.1.4/src/com/amazon/\n",
            "amazon-kinesis-agent-1.1.4/src/com/amazon/kinesis/\n",
            "amazon-kinesis-agent-1.1.4/src/com/amazon/kinesis/streaming/\n",
            "amazon-kinesis-agent-1.1.4/src/com/amazon/kinesis/streaming/agent/\n",
            "amazon-kinesis-agent-1.1.4/src/com/amazon/kinesis/streaming/agent/Agent.java\n",
            "amazon-kinesis-agent-1.1.4/src/com/amazon/kinesis/streaming/agent/AgentAWSCredentialsProvider.java\n",
            "amazon-kinesis-agent-1.1.4/src/com/amazon/kinesis/streaming/agent/AgentAWSCredentialsProviderChain.java\n",
            "amazon-kinesis-agent-1.1.4/src/com/amazon/kinesis/streaming/agent/AgentContext.java\n",
            "amazon-kinesis-agent-1.1.4/src/com/amazon/kinesis/streaming/agent/ByteBufferInputStream.java\n",
            "amazon-kinesis-agent-1.1.4/src/com/amazon/kinesis/streaming/agent/ByteBuffers.java\n",
            "amazon-kinesis-agent-1.1.4/src/com/amazon/kinesis/streaming/agent/Constants.java\n",
            "amazon-kinesis-agent-1.1.4/src/com/amazon/kinesis/streaming/agent/CustomLog4jFallbackErrorHandler.java\n",
            "amazon-kinesis-agent-1.1.4/src/com/amazon/kinesis/streaming/agent/CustomLog4jFallbackPatterLayout.java\n",
            "amazon-kinesis-agent-1.1.4/src/com/amazon/kinesis/streaming/agent/HeartbeatService.java\n",
            "amazon-kinesis-agent-1.1.4/src/com/amazon/kinesis/streaming/agent/IHeartbeatProvider.java\n",
            "amazon-kinesis-agent-1.1.4/src/com/amazon/kinesis/streaming/agent/Logging.java\n",
            "amazon-kinesis-agent-1.1.4/src/com/amazon/kinesis/streaming/agent/config/\n",
            "amazon-kinesis-agent-1.1.4/src/com/amazon/kinesis/streaming/agent/config/AgentConfiguration.java\n",
            "amazon-kinesis-agent-1.1.4/src/com/amazon/kinesis/streaming/agent/config/AgentOptions.java\n",
            "amazon-kinesis-agent-1.1.4/src/com/amazon/kinesis/streaming/agent/config/BooleanConverter.java\n",
            "amazon-kinesis-agent-1.1.4/src/com/amazon/kinesis/streaming/agent/config/Configuration.java\n",
            "amazon-kinesis-agent-1.1.4/src/com/amazon/kinesis/streaming/agent/config/ConfigurationConverter.java\n",
            "amazon-kinesis-agent-1.1.4/src/com/amazon/kinesis/streaming/agent/config/ConfigurationException.java\n",
            "amazon-kinesis-agent-1.1.4/src/com/amazon/kinesis/streaming/agent/config/PathConverter.java\n",
            "amazon-kinesis-agent-1.1.4/src/com/amazon/kinesis/streaming/agent/config/StringConverterWrapper.java\n",
            "amazon-kinesis-agent-1.1.4/src/com/amazon/kinesis/streaming/agent/config/package-info.java\n",
            "amazon-kinesis-agent-1.1.4/src/com/amazon/kinesis/streaming/agent/custom.log4j.xml\n",
            "amazon-kinesis-agent-1.1.4/src/com/amazon/kinesis/streaming/agent/metrics/\n",
            "amazon-kinesis-agent-1.1.4/src/com/amazon/kinesis/streaming/agent/metrics/AbstractMetricsScope.java\n",
            "amazon-kinesis-agent-1.1.4/src/com/amazon/kinesis/streaming/agent/metrics/AccumulatingMetricsScope.java\n",
            "amazon-kinesis-agent-1.1.4/src/com/amazon/kinesis/streaming/agent/metrics/CWMetricKey.java\n",
            "amazon-kinesis-agent-1.1.4/src/com/amazon/kinesis/streaming/agent/metrics/CWMetricsFactory.java\n",
            "amazon-kinesis-agent-1.1.4/src/com/amazon/kinesis/streaming/agent/metrics/CWMetricsScope.java\n",
            "amazon-kinesis-agent-1.1.4/src/com/amazon/kinesis/streaming/agent/metrics/CWPublisherRunnable.java\n",
            "amazon-kinesis-agent-1.1.4/src/com/amazon/kinesis/streaming/agent/metrics/CompositeMetricsFactory.java\n",
            "amazon-kinesis-agent-1.1.4/src/com/amazon/kinesis/streaming/agent/metrics/CompositeMetricsScope.java\n",
            "amazon-kinesis-agent-1.1.4/src/com/amazon/kinesis/streaming/agent/metrics/DefaultCWMetricsPublisher.java\n",
            "amazon-kinesis-agent-1.1.4/src/com/amazon/kinesis/streaming/agent/metrics/ICWMetricsPublisher.java\n",
            "amazon-kinesis-agent-1.1.4/src/com/amazon/kinesis/streaming/agent/metrics/IMetricsContext.java\n",
            "amazon-kinesis-agent-1.1.4/src/com/amazon/kinesis/streaming/agent/metrics/IMetricsFactory.java\n",
            "amazon-kinesis-agent-1.1.4/src/com/amazon/kinesis/streaming/agent/metrics/IMetricsScope.java\n",
            "amazon-kinesis-agent-1.1.4/src/com/amazon/kinesis/streaming/agent/metrics/LogMetricsFactory.java\n",
            "amazon-kinesis-agent-1.1.4/src/com/amazon/kinesis/streaming/agent/metrics/LogMetricsScope.java\n",
            "amazon-kinesis-agent-1.1.4/src/com/amazon/kinesis/streaming/agent/metrics/MetricAccumulatingQueue.java\n",
            "amazon-kinesis-agent-1.1.4/src/com/amazon/kinesis/streaming/agent/metrics/MetricDatumWithKey.java\n",
            "amazon-kinesis-agent-1.1.4/src/com/amazon/kinesis/streaming/agent/metrics/Metrics.java\n",
            "amazon-kinesis-agent-1.1.4/src/com/amazon/kinesis/streaming/agent/metrics/NestedMetricsScope.java\n",
            "amazon-kinesis-agent-1.1.4/src/com/amazon/kinesis/streaming/agent/metrics/NullMetricsFactory.java\n",
            "amazon-kinesis-agent-1.1.4/src/com/amazon/kinesis/streaming/agent/metrics/NullMetricsScope.java\n",
            "amazon-kinesis-agent-1.1.4/src/com/amazon/kinesis/streaming/agent/metrics/package-info.java\n",
            "amazon-kinesis-agent-1.1.4/src/com/amazon/kinesis/streaming/agent/package-info.java\n",
            "amazon-kinesis-agent-1.1.4/src/com/amazon/kinesis/streaming/agent/processing/\n",
            "amazon-kinesis-agent-1.1.4/src/com/amazon/kinesis/streaming/agent/processing/exceptions/\n",
            "amazon-kinesis-agent-1.1.4/src/com/amazon/kinesis/streaming/agent/processing/exceptions/DataConversionException.java\n",
            "amazon-kinesis-agent-1.1.4/src/com/amazon/kinesis/streaming/agent/processing/exceptions/LogParsingException.java\n",
            "amazon-kinesis-agent-1.1.4/src/com/amazon/kinesis/streaming/agent/processing/interfaces/\n",
            "amazon-kinesis-agent-1.1.4/src/com/amazon/kinesis/streaming/agent/processing/interfaces/IDataConverter.java\n",
            "amazon-kinesis-agent-1.1.4/src/com/amazon/kinesis/streaming/agent/processing/interfaces/IJSONPrinter.java\n",
            "amazon-kinesis-agent-1.1.4/src/com/amazon/kinesis/streaming/agent/processing/interfaces/ILogParser.java\n",
            "amazon-kinesis-agent-1.1.4/src/com/amazon/kinesis/streaming/agent/processing/parsers/\n",
            "amazon-kinesis-agent-1.1.4/src/com/amazon/kinesis/streaming/agent/processing/parsers/ApacheLogParser.java\n",
            "amazon-kinesis-agent-1.1.4/src/com/amazon/kinesis/streaming/agent/processing/parsers/BaseLogParser.java\n",
            "amazon-kinesis-agent-1.1.4/src/com/amazon/kinesis/streaming/agent/processing/parsers/PatternConstants.java\n",
            "amazon-kinesis-agent-1.1.4/src/com/amazon/kinesis/streaming/agent/processing/parsers/SysLogParser.java\n",
            "amazon-kinesis-agent-1.1.4/src/com/amazon/kinesis/streaming/agent/processing/processors/\n",
            "amazon-kinesis-agent-1.1.4/src/com/amazon/kinesis/streaming/agent/processing/processors/AddEC2MetadataConverter.java\n",
            "amazon-kinesis-agent-1.1.4/src/com/amazon/kinesis/streaming/agent/processing/processors/AddMetadataConverter.java\n",
            "amazon-kinesis-agent-1.1.4/src/com/amazon/kinesis/streaming/agent/processing/processors/AgentDataConverterChain.java\n",
            "amazon-kinesis-agent-1.1.4/src/com/amazon/kinesis/streaming/agent/processing/processors/BracketsDataConverter.java\n",
            "amazon-kinesis-agent-1.1.4/src/com/amazon/kinesis/streaming/agent/processing/processors/CSVToJSONDataConverter.java\n",
            "amazon-kinesis-agent-1.1.4/src/com/amazon/kinesis/streaming/agent/processing/processors/LogToJSONDataConverter.java\n",
            "amazon-kinesis-agent-1.1.4/src/com/amazon/kinesis/streaming/agent/processing/processors/SingleLineDataConverter.java\n",
            "amazon-kinesis-agent-1.1.4/src/com/amazon/kinesis/streaming/agent/processing/utils/\n",
            "amazon-kinesis-agent-1.1.4/src/com/amazon/kinesis/streaming/agent/processing/utils/PrettyJSONPrinter.java\n",
            "amazon-kinesis-agent-1.1.4/src/com/amazon/kinesis/streaming/agent/processing/utils/ProcessingUtilsFactory.java\n",
            "amazon-kinesis-agent-1.1.4/src/com/amazon/kinesis/streaming/agent/processing/utils/SimpleJSONPrinter.java\n",
            "amazon-kinesis-agent-1.1.4/src/com/amazon/kinesis/streaming/agent/tailing/\n",
            "amazon-kinesis-agent-1.1.4/src/com/amazon/kinesis/streaming/agent/tailing/AbstractParser.java\n",
            "amazon-kinesis-agent-1.1.4/src/com/amazon/kinesis/streaming/agent/tailing/AbstractRecord.java\n",
            "amazon-kinesis-agent-1.1.4/src/com/amazon/kinesis/streaming/agent/tailing/AbstractSender.java\n",
            "amazon-kinesis-agent-1.1.4/src/com/amazon/kinesis/streaming/agent/tailing/AggregationSplitter.java\n",
            "amazon-kinesis-agent-1.1.4/src/com/amazon/kinesis/streaming/agent/tailing/AsyncPublisher.java\n",
            "amazon-kinesis-agent-1.1.4/src/com/amazon/kinesis/streaming/agent/tailing/AsyncPublisherService.java\n",
            "amazon-kinesis-agent-1.1.4/src/com/amazon/kinesis/streaming/agent/tailing/AsyncPublisherThrottler.java\n",
            "amazon-kinesis-agent-1.1.4/src/com/amazon/kinesis/streaming/agent/tailing/BufferSendResult.java\n",
            "amazon-kinesis-agent-1.1.4/src/com/amazon/kinesis/streaming/agent/tailing/FileFlow.java\n",
            "amazon-kinesis-agent-1.1.4/src/com/amazon/kinesis/streaming/agent/tailing/FileFlowFactory.java\n",
            "amazon-kinesis-agent-1.1.4/src/com/amazon/kinesis/streaming/agent/tailing/FileId.java\n",
            "amazon-kinesis-agent-1.1.4/src/com/amazon/kinesis/streaming/agent/tailing/FileTailer.java\n",
            "amazon-kinesis-agent-1.1.4/src/com/amazon/kinesis/streaming/agent/tailing/FirehoseConstants.java\n",
            "amazon-kinesis-agent-1.1.4/src/com/amazon/kinesis/streaming/agent/tailing/FirehoseFileFlow.java\n",
            "amazon-kinesis-agent-1.1.4/src/com/amazon/kinesis/streaming/agent/tailing/FirehoseParser.java\n",
            "amazon-kinesis-agent-1.1.4/src/com/amazon/kinesis/streaming/agent/tailing/FirehoseRecord.java\n",
            "amazon-kinesis-agent-1.1.4/src/com/amazon/kinesis/streaming/agent/tailing/FirehoseSender.java\n",
            "amazon-kinesis-agent-1.1.4/src/com/amazon/kinesis/streaming/agent/tailing/IParser.java\n",
            "amazon-kinesis-agent-1.1.4/src/com/amazon/kinesis/streaming/agent/tailing/IRecord.java\n",
            "amazon-kinesis-agent-1.1.4/src/com/amazon/kinesis/streaming/agent/tailing/ISender.java\n",
            "amazon-kinesis-agent-1.1.4/src/com/amazon/kinesis/streaming/agent/tailing/ISplitter.java\n",
            "amazon-kinesis-agent-1.1.4/src/com/amazon/kinesis/streaming/agent/tailing/KinesisConstants.java\n",
            "amazon-kinesis-agent-1.1.4/src/com/amazon/kinesis/streaming/agent/tailing/KinesisFileFlow.java\n",
            "amazon-kinesis-agent-1.1.4/src/com/amazon/kinesis/streaming/agent/tailing/KinesisParser.java\n",
            "amazon-kinesis-agent-1.1.4/src/com/amazon/kinesis/streaming/agent/tailing/KinesisRecord.java\n",
            "amazon-kinesis-agent-1.1.4/src/com/amazon/kinesis/streaming/agent/tailing/KinesisSender.java\n",
            "amazon-kinesis-agent-1.1.4/src/com/amazon/kinesis/streaming/agent/tailing/PublishingQueue.java\n",
            "amazon-kinesis-agent-1.1.4/src/com/amazon/kinesis/streaming/agent/tailing/RecordBuffer.java\n",
            "amazon-kinesis-agent-1.1.4/src/com/amazon/kinesis/streaming/agent/tailing/RegexSplitter.java\n",
            "amazon-kinesis-agent-1.1.4/src/com/amazon/kinesis/streaming/agent/tailing/SimplePublisher.java\n",
            "amazon-kinesis-agent-1.1.4/src/com/amazon/kinesis/streaming/agent/tailing/SingleLineSplitter.java\n",
            "amazon-kinesis-agent-1.1.4/src/com/amazon/kinesis/streaming/agent/tailing/SourceFile.java\n",
            "amazon-kinesis-agent-1.1.4/src/com/amazon/kinesis/streaming/agent/tailing/SourceFileTracker.java\n",
            "amazon-kinesis-agent-1.1.4/src/com/amazon/kinesis/streaming/agent/tailing/TrackedFile.java\n",
            "amazon-kinesis-agent-1.1.4/src/com/amazon/kinesis/streaming/agent/tailing/TrackedFileList.java\n",
            "amazon-kinesis-agent-1.1.4/src/com/amazon/kinesis/streaming/agent/tailing/TrackedFileRotationAnalyzer.java\n",
            "amazon-kinesis-agent-1.1.4/src/com/amazon/kinesis/streaming/agent/tailing/checkpoints/\n",
            "amazon-kinesis-agent-1.1.4/src/com/amazon/kinesis/streaming/agent/tailing/checkpoints/Checkpointer.java\n",
            "amazon-kinesis-agent-1.1.4/src/com/amazon/kinesis/streaming/agent/tailing/checkpoints/FileCheckpoint.java\n",
            "amazon-kinesis-agent-1.1.4/src/com/amazon/kinesis/streaming/agent/tailing/checkpoints/FileCheckpointStore.java\n",
            "amazon-kinesis-agent-1.1.4/src/com/amazon/kinesis/streaming/agent/tailing/checkpoints/SQLiteFileCheckpointStore.java\n",
            "amazon-kinesis-agent-1.1.4/src/com/amazon/kinesis/streaming/agent/tailing/checkpoints/package-info.java\n",
            "amazon-kinesis-agent-1.1.4/src/com/amazon/kinesis/streaming/agent/tailing/package-info.java\n",
            "amazon-kinesis-agent-1.1.4/src/com/amazon/kinesis/streaming/agent/versionInfo.properties\n",
            "amazon-kinesis-agent-1.1.4/support/\n",
            "amazon-kinesis-agent-1.1.4/support/aws-kinesis-agent.cron\n",
            "amazon-kinesis-agent-1.1.4/support/aws-kinesis-agent.sysconfig\n",
            "amazon-kinesis-agent-1.1.4/tst/\n",
            "amazon-kinesis-agent-1.1.4/tst/com/\n",
            "amazon-kinesis-agent-1.1.4/tst/com/amazon/\n",
            "amazon-kinesis-agent-1.1.4/tst/com/amazon/kinesis/\n",
            "amazon-kinesis-agent-1.1.4/tst/com/amazon/kinesis/streaming/\n",
            "amazon-kinesis-agent-1.1.4/tst/com/amazon/kinesis/streaming/agent/\n",
            "amazon-kinesis-agent-1.1.4/tst/com/amazon/kinesis/streaming/agent/AgentAWSCredentialsProviderChainTest.java\n",
            "amazon-kinesis-agent-1.1.4/tst/com/amazon/kinesis/streaming/agent/AgentContextTest.java\n",
            "amazon-kinesis-agent-1.1.4/tst/com/amazon/kinesis/streaming/agent/ByteBufferInputStreamTest.java\n",
            "amazon-kinesis-agent-1.1.4/tst/com/amazon/kinesis/streaming/agent/ByteBuffersTest.java\n",
            "amazon-kinesis-agent-1.1.4/tst/com/amazon/kinesis/streaming/agent/LoggingTest.java\n",
            "amazon-kinesis-agent-1.1.4/tst/com/amazon/kinesis/streaming/agent/LoggingTest.log4j.xml\n",
            "amazon-kinesis-agent-1.1.4/tst/com/amazon/kinesis/streaming/agent/agentconfig1.json\n",
            "amazon-kinesis-agent-1.1.4/tst/com/amazon/kinesis/streaming/agent/config/\n",
            "amazon-kinesis-agent-1.1.4/tst/com/amazon/kinesis/streaming/agent/config/AgentConfigurationTest.java\n",
            "amazon-kinesis-agent-1.1.4/tst/com/amazon/kinesis/streaming/agent/config/BooleanConverterTest.java\n",
            "amazon-kinesis-agent-1.1.4/tst/com/amazon/kinesis/streaming/agent/config/ConfigurationTest.java\n",
            "amazon-kinesis-agent-1.1.4/tst/com/amazon/kinesis/streaming/agent/config/agentconfig1.json\n",
            "amazon-kinesis-agent-1.1.4/tst/com/amazon/kinesis/streaming/agent/config/config1.json\n",
            "amazon-kinesis-agent-1.1.4/tst/com/amazon/kinesis/streaming/agent/metrics/\n",
            "amazon-kinesis-agent-1.1.4/tst/com/amazon/kinesis/streaming/agent/metrics/BaseMetricsScopeTest.java\n",
            "amazon-kinesis-agent-1.1.4/tst/com/amazon/kinesis/streaming/agent/metrics/CWPublisherRunnableTest.java\n",
            "amazon-kinesis-agent-1.1.4/tst/com/amazon/kinesis/streaming/agent/metrics/DefaultCWMetricsPublisherTest.java\n",
            "amazon-kinesis-agent-1.1.4/tst/com/amazon/kinesis/streaming/agent/metrics/MetricAccumulatingQueueTest.java\n",
            "amazon-kinesis-agent-1.1.4/tst/com/amazon/kinesis/streaming/agent/metrics/TestHelper.java\n",
            "amazon-kinesis-agent-1.1.4/tst/com/amazon/kinesis/streaming/agent/processing/\n",
            "amazon-kinesis-agent-1.1.4/tst/com/amazon/kinesis/streaming/agent/processing/processors/\n",
            "amazon-kinesis-agent-1.1.4/tst/com/amazon/kinesis/streaming/agent/processing/processors/DataConverterTest.java\n",
            "amazon-kinesis-agent-1.1.4/tst/com/amazon/kinesis/streaming/agent/tailing/\n",
            "amazon-kinesis-agent-1.1.4/tst/com/amazon/kinesis/streaming/agent/tailing/AbstractParserTest.java\n",
            "amazon-kinesis-agent-1.1.4/tst/com/amazon/kinesis/streaming/agent/tailing/AgentEndToEndTest.java\n",
            "amazon-kinesis-agent-1.1.4/tst/com/amazon/kinesis/streaming/agent/tailing/AgentEndToEndTest.json\n",
            "amazon-kinesis-agent-1.1.4/tst/com/amazon/kinesis/streaming/agent/tailing/AgentEndToEndTestHighThroughput.json\n",
            "amazon-kinesis-agent-1.1.4/tst/com/amazon/kinesis/streaming/agent/tailing/AgentEnduranceTest.java\n",
            "amazon-kinesis-agent-1.1.4/tst/com/amazon/kinesis/streaming/agent/tailing/AgentEnduranceTest.json\n",
            "amazon-kinesis-agent-1.1.4/tst/com/amazon/kinesis/streaming/agent/tailing/AggregationSplitterTest.java\n",
            "amazon-kinesis-agent-1.1.4/tst/com/amazon/kinesis/streaming/agent/tailing/AsyncPublisherServiceTest.java\n",
            "amazon-kinesis-agent-1.1.4/tst/com/amazon/kinesis/streaming/agent/tailing/AsyncPublisherTest.java\n",
            "amazon-kinesis-agent-1.1.4/tst/com/amazon/kinesis/streaming/agent/tailing/AsyncPublisherThrottlerTest.java\n",
            "amazon-kinesis-agent-1.1.4/tst/com/amazon/kinesis/streaming/agent/tailing/FileFlowTest.java\n",
            "amazon-kinesis-agent-1.1.4/tst/com/amazon/kinesis/streaming/agent/tailing/FileIdTest.java\n",
            "amazon-kinesis-agent-1.1.4/tst/com/amazon/kinesis/streaming/agent/tailing/FileTailerEnduranceTest.java\n",
            "amazon-kinesis-agent-1.1.4/tst/com/amazon/kinesis/streaming/agent/tailing/FileTailerEnduranceTest.json\n",
            "amazon-kinesis-agent-1.1.4/tst/com/amazon/kinesis/streaming/agent/tailing/FileTailerTest.java\n",
            "amazon-kinesis-agent-1.1.4/tst/com/amazon/kinesis/streaming/agent/tailing/FirehoseFileFlowTest.java\n",
            "amazon-kinesis-agent-1.1.4/tst/com/amazon/kinesis/streaming/agent/tailing/FirehoseParserTest.java\n",
            "amazon-kinesis-agent-1.1.4/tst/com/amazon/kinesis/streaming/agent/tailing/FirehoseRecordTest.java\n",
            "amazon-kinesis-agent-1.1.4/tst/com/amazon/kinesis/streaming/agent/tailing/FirehoseSenderTest.java\n",
            "amazon-kinesis-agent-1.1.4/tst/com/amazon/kinesis/streaming/agent/tailing/KinesisFileFlowTest.java\n",
            "amazon-kinesis-agent-1.1.4/tst/com/amazon/kinesis/streaming/agent/tailing/KinesisParserTest.java\n",
            "amazon-kinesis-agent-1.1.4/tst/com/amazon/kinesis/streaming/agent/tailing/KinesisRecordTest.java\n",
            "amazon-kinesis-agent-1.1.4/tst/com/amazon/kinesis/streaming/agent/tailing/KinesisSenderTest.java\n",
            "amazon-kinesis-agent-1.1.4/tst/com/amazon/kinesis/streaming/agent/tailing/PublishingQueueTest.java\n",
            "amazon-kinesis-agent-1.1.4/tst/com/amazon/kinesis/streaming/agent/tailing/RecordBufferTest.java\n",
            "amazon-kinesis-agent-1.1.4/tst/com/amazon/kinesis/streaming/agent/tailing/SimplePublisherTest.java\n",
            "amazon-kinesis-agent-1.1.4/tst/com/amazon/kinesis/streaming/agent/tailing/SourceFileTest.java\n",
            "amazon-kinesis-agent-1.1.4/tst/com/amazon/kinesis/streaming/agent/tailing/SourceFileTrackerTest.java\n",
            "amazon-kinesis-agent-1.1.4/tst/com/amazon/kinesis/streaming/agent/tailing/TrackedFileRotationAnalyzerTest.java\n",
            "amazon-kinesis-agent-1.1.4/tst/com/amazon/kinesis/streaming/agent/tailing/TrackedFileTest.java\n",
            "amazon-kinesis-agent-1.1.4/tst/com/amazon/kinesis/streaming/agent/tailing/apache_test_log\n",
            "amazon-kinesis-agent-1.1.4/tst/com/amazon/kinesis/streaming/agent/tailing/apache_test_log_json\n",
            "amazon-kinesis-agent-1.1.4/tst/com/amazon/kinesis/streaming/agent/tailing/checkpoints/\n",
            "amazon-kinesis-agent-1.1.4/tst/com/amazon/kinesis/streaming/agent/tailing/checkpoints/CheckpointerTest.java\n",
            "amazon-kinesis-agent-1.1.4/tst/com/amazon/kinesis/streaming/agent/tailing/checkpoints/FileCheckpointTest.java\n",
            "amazon-kinesis-agent-1.1.4/tst/com/amazon/kinesis/streaming/agent/tailing/checkpoints/SQLiteFileCheckpointStoreTest.java\n",
            "amazon-kinesis-agent-1.1.4/tst/com/amazon/kinesis/streaming/agent/tailing/parsed_singleline_json\n",
            "amazon-kinesis-agent-1.1.4/tst/com/amazon/kinesis/streaming/agent/tailing/pretty_printed_json\n",
            "amazon-kinesis-agent-1.1.4/tst/com/amazon/kinesis/streaming/agent/tailing/syslog_test\n",
            "amazon-kinesis-agent-1.1.4/tst/com/amazon/kinesis/streaming/agent/tailing/syslog_test_json\n",
            "amazon-kinesis-agent-1.1.4/tst/com/amazon/kinesis/streaming/agent/tailing/test_service_log\n",
            "amazon-kinesis-agent-1.1.4/tst/com/amazon/kinesis/streaming/agent/tailing/testing/\n",
            "amazon-kinesis-agent-1.1.4/tst/com/amazon/kinesis/streaming/agent/tailing/testing/CopyFileRotator.java\n",
            "amazon-kinesis-agent-1.1.4/tst/com/amazon/kinesis/streaming/agent/tailing/testing/CopyFileRotatorTest.java\n",
            "amazon-kinesis-agent-1.1.4/tst/com/amazon/kinesis/streaming/agent/tailing/testing/CreateFileRotator.java\n",
            "amazon-kinesis-agent-1.1.4/tst/com/amazon/kinesis/streaming/agent/tailing/testing/CreateFileRotatorTest.java\n",
            "amazon-kinesis-agent-1.1.4/tst/com/amazon/kinesis/streaming/agent/tailing/testing/FileRotator.java\n",
            "amazon-kinesis-agent-1.1.4/tst/com/amazon/kinesis/streaming/agent/tailing/testing/FileRotatorTestBase.java\n",
            "amazon-kinesis-agent-1.1.4/tst/com/amazon/kinesis/streaming/agent/tailing/testing/FileSender.java\n",
            "amazon-kinesis-agent-1.1.4/tst/com/amazon/kinesis/streaming/agent/tailing/testing/RecordGenerator.java\n",
            "amazon-kinesis-agent-1.1.4/tst/com/amazon/kinesis/streaming/agent/tailing/testing/RememberedTrackedFile.java\n",
            "amazon-kinesis-agent-1.1.4/tst/com/amazon/kinesis/streaming/agent/tailing/testing/RenameFileRotator.java\n",
            "amazon-kinesis-agent-1.1.4/tst/com/amazon/kinesis/streaming/agent/tailing/testing/RenameFileRotatorTest.java\n",
            "amazon-kinesis-agent-1.1.4/tst/com/amazon/kinesis/streaming/agent/tailing/testing/RotatingFileGenerator.java\n",
            "amazon-kinesis-agent-1.1.4/tst/com/amazon/kinesis/streaming/agent/tailing/testing/TailingTestBase.java\n",
            "amazon-kinesis-agent-1.1.4/tst/com/amazon/kinesis/streaming/agent/tailing/testing/TestAgentContext.java\n",
            "amazon-kinesis-agent-1.1.4/tst/com/amazon/kinesis/streaming/agent/tailing/testing/TestableFileTailer.java\n",
            "amazon-kinesis-agent-1.1.4/tst/com/amazon/kinesis/streaming/agent/tailing/testing/TestableSourceFileTracker.java\n",
            "amazon-kinesis-agent-1.1.4/tst/com/amazon/kinesis/streaming/agent/tailing/testing/TruncateFileRotator.java\n",
            "amazon-kinesis-agent-1.1.4/tst/com/amazon/kinesis/streaming/agent/tailing/testing/TruncateFileRotatorTest.java\n",
            "amazon-kinesis-agent-1.1.4/tst/com/amazon/kinesis/streaming/agent/tailing/testing/package-info.java\n",
            "amazon-kinesis-agent-1.1.4/tst/com/amazon/kinesis/streaming/agent/testing/\n",
            "amazon-kinesis-agent-1.1.4/tst/com/amazon/kinesis/streaming/agent/testing/TestUtils.java\n",
            "amazon-kinesis-agent-1.1.4/tst/com/amazon/kinesis/streaming/agent/testing/TestUtilsTest.java\n",
            "amazon-kinesis-agent-1.1.4/tst/com/amazon/kinesis/streaming/agent/testing/package-info.java\n",
            "amazon-kinesis-agent-1.1.4/tst/com/amazon/kinesis/streaming/agent/testing/test.log4j.xml\n"
          ],
          "name": "stdout"
        }
      ]
    },
    {
      "cell_type": "code",
      "metadata": {
        "id": "QViz51Z5DdOE",
        "colab": {
          "base_uri": "https://localhost:8080/"
        },
        "outputId": "39ad80cb-d895-4816-b586-c46c489cfeb7"
      },
      "source": [
        "!mv amazon-kinesis-agent-{KINESIS_AGENT_VER} amazon-kinesis-agent\n",
        "%cd amazon-kinesis-agent\n",
        "!sudo ./setup --install"
      ],
      "execution_count": null,
      "outputs": [
        {
          "output_type": "stream",
          "text": [
            "/root/amazon-kinesis-agent\n",
            "Detected OS Distro: Debian\n",
            "Uninstalling aws-kinesis-agent ...\n",
            "Removing aws-kinesis-agent from system services...\n",
            "userdel: user 'aws-kinesis-agent-user' does not exist\n",
            "Installing Kinesis Agent ...\n",
            "Reading package lists... Done\n",
            "Building dependency tree       \n",
            "Reading state information... Done\n",
            "The following package was automatically installed and is no longer required:\n",
            "  libnvidia-common-460\n",
            "Use 'sudo apt autoremove' to remove it.\n",
            "The following additional packages will be installed:\n",
            "  ant-optional\n",
            "Suggested packages:\n",
            "  ant-doc antlr javacc junit junit4 jython libactivation-java libbcel-java\n",
            "  libbsf-java libcommons-logging-java libcommons-net-java libmail-java\n",
            "  libjaxp1.3-java libjdepend-java libjsch-java liblog4j1.2-java liboro-java\n",
            "  libregexp-java libxalan2-java libxml-commons-resolver1.1-java libxz-java\n",
            "The following NEW packages will be installed:\n",
            "  ant ant-optional\n",
            "0 upgraded, 2 newly installed, 0 to remove and 85 not upgraded.\n",
            "Need to get 2,453 kB of archives.\n",
            "After this operation, 3,373 kB of additional disk space will be used.\n",
            "Get:1 http://archive.ubuntu.com/ubuntu bionic-updates/universe amd64 ant all 1.10.5-3~18.04 [2,075 kB]\n",
            "Get:2 http://archive.ubuntu.com/ubuntu bionic-updates/universe amd64 ant-optional all 1.10.5-3~18.04 [378 kB]\n",
            "Fetched 2,453 kB in 2s (1,531 kB/s)\n",
            "debconf: unable to initialize frontend: Dialog\n",
            "debconf: (No usable dialog-like program is installed, so the dialog based frontend cannot be used. at /usr/share/perl5/Debconf/FrontEnd/Dialog.pm line 76, <> line 2.)\n",
            "debconf: falling back to frontend: Readline\n",
            "debconf: unable to initialize frontend: Readline\n",
            "debconf: (This frontend requires a controlling tty.)\n",
            "debconf: falling back to frontend: Teletype\n",
            "dpkg-preconfigure: unable to re-open stdin: \n",
            "Selecting previously unselected package ant.\n",
            "(Reading database ... 161033 files and directories currently installed.)\n",
            "Preparing to unpack .../ant_1.10.5-3~18.04_all.deb ...\n",
            "Unpacking ant (1.10.5-3~18.04) ...\n",
            "Selecting previously unselected package ant-optional.\n",
            "Preparing to unpack .../ant-optional_1.10.5-3~18.04_all.deb ...\n",
            "Unpacking ant-optional (1.10.5-3~18.04) ...\n",
            "Setting up ant (1.10.5-3~18.04) ...\n",
            "Setting up ant-optional (1.10.5-3~18.04) ...\n",
            "Processing triggers for man-db (2.8.3-2ubuntu0.1) ...\n",
            "Downloading dependencies ...\n",
            "Downloading aws-java-sdk-core-1.11.28.jar (http://search.maven.org/remotecontent?filepath=com/amazonaws/aws-java-sdk-core/1.11.28/aws-java-sdk-core-1.11.28.jar)...\n",
            "Downloading aws-java-sdk-kinesis-1.11.28.jar (http://search.maven.org/remotecontent?filepath=com/amazonaws/aws-java-sdk-kinesis/1.11.28/aws-java-sdk-kinesis-1.11.28.jar)...\n",
            "Downloading aws-java-sdk-cloudwatch-1.11.28.jar (http://search.maven.org/remotecontent?filepath=com/amazonaws/aws-java-sdk-cloudwatch/1.11.28/aws-java-sdk-cloudwatch-1.11.28.jar)...\n",
            "Downloading aws-java-sdk-sts-1.11.28.jar (http://search.maven.org/remotecontent?filepath=com/amazonaws/aws-java-sdk-sts/1.11.28/aws-java-sdk-sts-1.11.28.jar)...\n",
            "Downloading aws-java-sdk-ec2-1.11.28.jar (http://search.maven.org/remotecontent?filepath=com/amazonaws/aws-java-sdk-ec2/1.11.28/aws-java-sdk-ec2-1.11.28.jar)...\n",
            "Downloading jackson-annotations-2.6.3.jar (http://search.maven.org/remotecontent?filepath=com/fasterxml/jackson/core/jackson-annotations/2.6.3/jackson-annotations-2.6.3.jar)...\n",
            "Downloading jackson-core-2.6.3.jar (http://search.maven.org/remotecontent?filepath=com/fasterxml/jackson/core/jackson-core/2.6.3/jackson-core-2.6.3.jar)...\n",
            "Downloading jackson-databind-2.6.3.jar (http://search.maven.org/remotecontent?filepath=com/fasterxml/jackson/core/jackson-databind/2.6.3/jackson-databind-2.6.3.jar)...\n",
            "Downloading jackson-dataformat-cbor-2.6.3.jar (http://search.maven.org/remotecontent?filepath=com/fasterxml/jackson/dataformat/jackson-dataformat-cbor/2.6.3/jackson-dataformat-cbor-2.6.3.jar)...\n",
            "Downloading jsr305-3.0.1.jar (http://search.maven.org/remotecontent?filepath=com/google/code/findbugs/jsr305/3.0.1/jsr305-3.0.1.jar)...\n",
            "Downloading guava-18.0.jar (http://search.maven.org/remotecontent?filepath=com/google/guava/guava/18.0/guava-18.0.jar)...\n",
            "Downloading httpclient-4.5.1.jar (http://search.maven.org/remotecontent?filepath=org/apache/httpcomponents/httpclient/4.5.1/httpclient-4.5.1.jar)...\n",
            "Downloading httpclient-cache-4.5.1.jar (http://search.maven.org/remotecontent?filepath=org/apache/httpcomponents/httpclient-cache/4.5.1/httpclient-cache-4.5.1.jar)...\n",
            "Downloading httpmime-4.5.1.jar (http://search.maven.org/remotecontent?filepath=org/apache/httpcomponents/httpmime/4.5.1/httpmime-4.5.1.jar)...\n",
            "Downloading httpcore-4.4.3.jar (http://search.maven.org/remotecontent?filepath=org/apache/httpcomponents/httpcore/4.4.3/httpcore-4.4.3.jar)...\n",
            "Downloading httpcore-ab-4.4.3.jar (http://search.maven.org/remotecontent?filepath=org/apache/httpcomponents/httpcore-ab/4.4.3/httpcore-ab-4.4.3.jar)...\n",
            "Downloading httpcore-nio-4.4.3.jar (http://search.maven.org/remotecontent?filepath=org/apache/httpcomponents/httpcore-nio/4.4.3/httpcore-nio-4.4.3.jar)...\n",
            "Downloading commons-cli-1.2.jar (http://search.maven.org/remotecontent?filepath=commons-cli/commons-cli/1.2/commons-cli-1.2.jar)...\n",
            "Downloading commons-codec-1.6.jar (http://search.maven.org/remotecontent?filepath=commons-codec/commons-codec/1.6/commons-codec-1.6.jar)...\n",
            "Downloading commons-logging-adapters-1.1.jar (http://search.maven.org/remotecontent?filepath=commons-logging/commons-logging-adapters/1.1/commons-logging-adapters-1.1.jar)...\n",
            "Downloading commons-logging-api-1.1.jar (http://search.maven.org/remotecontent?filepath=commons-logging/commons-logging-api/1.1/commons-logging-api-1.1.jar)...\n",
            "Downloading commons-lang3-3.4.jar (http://search.maven.org/remotecontent?filepath=org/apache/commons/commons-lang3/3.4/commons-lang3-3.4.jar)...\n",
            "Downloading log4j-1.2.17.jar (http://search.maven.org/remotecontent?filepath=log4j/log4j/1.2.17/log4j-1.2.17.jar)...\n",
            "Downloading slf4j-api-1.7.12.jar (http://search.maven.org/remotecontent?filepath=org/slf4j/slf4j-api/1.7.12/slf4j-api-1.7.12.jar)...\n",
            "Downloading slf4j-log4j12-1.7.12.jar (http://search.maven.org/remotecontent?filepath=org/slf4j/slf4j-log4j12/1.7.12/slf4j-log4j12-1.7.12.jar)...\n",
            "Downloading jcommander-1.48.jar (http://search.maven.org/remotecontent?filepath=com/beust/jcommander/1.48/jcommander-1.48.jar)...\n",
            "Downloading sqlite-jdbc-3.8.11.2.jar (http://search.maven.org/remotecontent?filepath=org/xerial/sqlite-jdbc/3.8.11.2/sqlite-jdbc-3.8.11.2.jar)...\n",
            "Downloading joda-time-2.8.2.jar (http://search.maven.org/remotecontent?filepath=joda-time/joda-time/2.8.2/joda-time-2.8.2.jar)...\n",
            "Downloading lombok-1.16.6.jar (http://search.maven.org/remotecontent?filepath=org/projectlombok/lombok/1.16.6/lombok-1.16.6.jar)...\n",
            "Buildfile: /root/amazon-kinesis-agent/build.xml\n",
            "\n",
            "clean:\n",
            "\n",
            "get-java-version:\n",
            "\n",
            "check-java-version:\n",
            "\n",
            "init:\n",
            "    [mkdir] Created dir: /root/amazon-kinesis-agent/ant_build\n",
            "\n",
            "compile:\n",
            "    [mkdir] Created dir: /root/amazon-kinesis-agent/ant_build/private\n",
            "    [javac] Compiling 105 source files to /root/amazon-kinesis-agent/ant_build/private\n",
            "    [javac] warning: [options] bootstrap class path not set in conjunction with -source 1.7\n",
            "    [javac] Note: /root/amazon-kinesis-agent/src/com/amazon/kinesis/streaming/agent/AgentContext.java uses or overrides a deprecated API.\n",
            "    [javac] Note: Recompile with -Xlint:deprecation for details.\n",
            "    [javac] Note: Some input files use unchecked or unsafe operations.\n",
            "    [javac] Note: Recompile with -Xlint:unchecked for details.\n",
            "    [javac] Creating empty /root/amazon-kinesis-agent/ant_build/private/com/amazon/kinesis/streaming/agent/package-info.class\n",
            "    [javac] Creating empty /root/amazon-kinesis-agent/ant_build/private/com/amazon/kinesis/streaming/agent/tailing/checkpoints/package-info.class\n",
            "    [javac] Creating empty /root/amazon-kinesis-agent/ant_build/private/com/amazon/kinesis/streaming/agent/tailing/package-info.class\n",
            "    [javac] Creating empty /root/amazon-kinesis-agent/ant_build/private/com/amazon/kinesis/streaming/agent/metrics/package-info.class\n",
            "    [javac] Creating empty /root/amazon-kinesis-agent/ant_build/private/com/amazon/kinesis/streaming/agent/config/package-info.class\n",
            "     [copy] Copying 2 files to /root/amazon-kinesis-agent/ant_build/private/com/amazon/kinesis/streaming/agent\n",
            "\n",
            "build:\n",
            "    [mkdir] Created dir: /root/amazon-kinesis-agent/ant_build/lib\n",
            "      [jar] Building jar: /root/amazon-kinesis-agent/ant_build/lib/AWSKinesisStreamingDataAgent-1.1.jar\n",
            "\n",
            "release:\n",
            "\n",
            "BUILD SUCCESSFUL\n",
            "Total time: 5 seconds\n",
            "Configuration file installed at: /etc/aws-kinesis/agent.json\n",
            "Configuration details:\n",
            "{\n",
            "  \"cloudwatch.emitMetrics\": true,\n",
            "  \"kinesis.endpoint\": \"\",\n",
            "  \"firehose.endpoint\": \"\",\n",
            "  \n",
            "  \"flows\": [\n",
            "    {\n",
            "      \"filePattern\": \"/tmp/app.log*\",\n",
            "      \"kinesisStream\": \"yourkinesisstream\",\n",
            "      \"partitionKeyOption\": \"RANDOM\"\n",
            "    },\n",
            "    {\n",
            "      \"filePattern\": \"/tmp/app.log*\",\n",
            "      \"deliveryStream\": \"yourdeliverystream\"\n",
            "    }\n",
            "  ]\n",
            "}\n",
            "Amazon Kinesis Agent is installed successfully.\n",
            "To start the aws-kinesis-agent service, run:\n",
            "  sudo service aws-kinesis-agent start\n",
            "To stop the aws-kinesis-agent service, run:\n",
            "  sudo service aws-kinesis-agent stop\n",
            "To check the status of the aws-kinesis-agent service, run:\n",
            "  sudo service aws-kinesis-agent status\n",
            "\n",
            "aws-kinesis-agent log file will be found at: /var/log/aws-kinesis-agent\n",
            "To make the agent automatically start at system startup, type:\n",
            "  sudo chkconfig aws-kinesis-agent on\n",
            "\n",
            "Your installation has completed!\n"
          ],
          "name": "stdout"
        }
      ]
    },
    {
      "cell_type": "markdown",
      "metadata": {
        "id": "3mic1JMkJYNf"
      },
      "source": [
        "## Configure Kinesis Agent"
      ]
    },
    {
      "cell_type": "code",
      "metadata": {
        "id": "91gEJVNQRVH6",
        "colab": {
          "base_uri": "https://localhost:8080/"
        },
        "outputId": "146f0531-6094-4e7b-f34f-d49c2d974e40"
      },
      "source": [
        "cd /etc/aws-kinesis"
      ],
      "execution_count": null,
      "outputs": [
        {
          "output_type": "stream",
          "text": [
            "/etc/aws-kinesis\n"
          ],
          "name": "stdout"
        }
      ]
    },
    {
      "cell_type": "code",
      "metadata": {
        "id": "4Zo-zj99tSRy",
        "colab": {
          "base_uri": "https://localhost:8080/"
        },
        "outputId": "3a8368d4-5590-4093-fc6e-e3aaaa82d866"
      },
      "source": [
        "%%writefile agent.json\n",
        "{\n",
        "  \"cloudwatch.emitMetrics\": true,\n",
        "  \"awsAccessKeyId\": \"ACCESS_KEY\",\n",
        "  \"awsSecretAccessKey\": \"SECRET_KEY\",\n",
        "  \"firehose.endpoint\": \"firehose.USER_REGION.amazonaws.com\",\n",
        "  \"kinesis.endpoint\": \"kinesis.USER_REGION.amazonaws.com\",\n",
        " \n",
        "  \"flows\": [\n",
        "    {\n",
        "      \"filePattern\": \"/data/*.log\",\n",
        "      \"deliveryStream\": \"tf-cadabra_batch_sales\",\n",
        "      \"initialPosition\": \"START_OF_FILE\"\n",
        "    },\n",
        "    {\n",
        "      \"filePattern\": \"/data/*.log\",\n",
        "      \"kinesisStream\": \"tf-order-stream\",\n",
        "      \"partitionKeyOption\": \"RANDOM\",\n",
        "      \"dataProcessingOptions\": [\n",
        "         {\n",
        "            \"optionName\": \"CSVTOJSON\",\n",
        "            \"customFieldNames\": [\"InvoiceNo\", \"StockCode\", \"Description\", \"Quantity\", \"InvoiceDate\", \"UnitPrice\", \"Customer\", \"Country\"]\n",
        "         }\n",
        "      ]\n",
        "    },\n",
        "    {\n",
        "      \"filePattern\": \"/var/log/httpd/*.log\",\n",
        "      \"deliveryStream\": \"tf-weblogs\",\n",
        "      \"initialPosition\": \"START_OF_FILE\"\n",
        "    },\n",
        "    {\n",
        "      \"filePattern\": \"/data/*.log\",\n",
        "      \"kinesisStream\": \"tf-redshift-datastream\",\n",
        "      \"partitionKeyOption\": \"RANDOM\"\n",
        "    }\n",
        "  ]\n",
        "}"
      ],
      "execution_count": null,
      "outputs": [
        {
          "output_type": "stream",
          "text": [
            "Overwriting agent.json\n"
          ],
          "name": "stdout"
        }
      ]
    },
    {
      "cell_type": "code",
      "metadata": {
        "id": "V41_uLKrY7Ob"
      },
      "source": [
        "!sed -i 's/USER_REGION/{user_region}/g' agent.json\n",
        "!sed -i 's/ACCESS_KEY/{access_key}/g' agent.json\n",
        "!sed -i 's/SECRET_KEY/{secret_key}/g' agent.json"
      ],
      "execution_count": null,
      "outputs": []
    },
    {
      "cell_type": "code",
      "metadata": {
        "id": "a3UFmPjE3CeD"
      },
      "source": [
        "!cat agent.json"
      ],
      "execution_count": null,
      "outputs": []
    },
    {
      "cell_type": "code",
      "metadata": {
        "id": "ZBHBmBAwtrFP",
        "colab": {
          "base_uri": "https://localhost:8080/"
        },
        "outputId": "cdda542b-e483-49d0-ec30-76f3482f32ae"
      },
      "source": [
        "!ls -alh /etc/aws-kinesis/ "
      ],
      "execution_count": null,
      "outputs": [
        {
          "output_type": "stream",
          "text": [
            "total 20K\n",
            "drwxr-xr-x 3 root root 4.0K May  4 19:06 .\n",
            "drwxr-xr-x 1 root root 4.0K May  4 19:06 ..\n",
            "drwxr-xr-x 2 root root 4.0K May  4 19:06 agent.d\n",
            "-rw-r--r-- 1 root root 1.1K May  4 19:06 agent.json\n"
          ],
          "name": "stdout"
        }
      ]
    },
    {
      "cell_type": "markdown",
      "metadata": {
        "id": "JY0xxq_x7LQ-"
      },
      "source": [
        "## Start Kinesis Agent"
      ]
    },
    {
      "cell_type": "code",
      "metadata": {
        "id": "u-x4ouzujC-7",
        "colab": {
          "base_uri": "https://localhost:8080/"
        },
        "outputId": "6a8998e0-4514-48fc-9339-5690bdfa983e"
      },
      "source": [
        "!sudo service aws-kinesis-agent status"
      ],
      "execution_count": null,
      "outputs": [
        {
          "output_type": "stream",
          "text": [
            " * aws-kinesis-agent is not running\n"
          ],
          "name": "stdout"
        }
      ]
    },
    {
      "cell_type": "code",
      "metadata": {
        "id": "A2vd_hWr7KR9",
        "colab": {
          "base_uri": "https://localhost:8080/"
        },
        "outputId": "c0160942-8c62-4581-cacd-5d826f2fe234"
      },
      "source": [
        "!sudo service aws-kinesis-agent start"
      ],
      "execution_count": null,
      "outputs": [
        {
          "output_type": "stream",
          "text": [
            " * Starting aws-kinesis-agent\n",
            "   ...done.\n"
          ],
          "name": "stdout"
        }
      ]
    },
    {
      "cell_type": "code",
      "metadata": {
        "id": "R5q7vg-haHx4"
      },
      "source": [
        "!sleep 30"
      ],
      "execution_count": null,
      "outputs": []
    },
    {
      "cell_type": "code",
      "metadata": {
        "id": "piIxzLSOaHx4",
        "colab": {
          "base_uri": "https://localhost:8080/"
        },
        "outputId": "6c357674-c946-419a-ff97-538d48c1c84c"
      },
      "source": [
        "!cat /var/log/aws-kinesis-agent/aws-kinesis-agent.log  "
      ],
      "execution_count": null,
      "outputs": [
        {
          "output_type": "stream",
          "text": [
            "2021-05-04 19:07:02.212+0000 704287a1c18b (main) com.amazon.kinesis.streaming.agent.Agent [INFO] Reading configuration from file: /etc/aws-kinesis/agent.json\n",
            "2021-05-04 19:07:02.213+0000 704287a1c18b (main) com.amazon.kinesis.streaming.agent.Agent [INFO] Found 4 configured flow(s)\n",
            "2021-05-04 19:07:02.249+0000 704287a1c18b (main) com.amazon.kinesis.streaming.agent.Agent [INFO] null: Agent will use up to 24 threads for sending data.\n",
            "2021-05-04 19:07:02.378+0000 704287a1c18b (main) com.amazon.kinesis.streaming.agent.tailing.checkpoints.SQLiteFileCheckpointStore [INFO] Deleted 0 old checkpoints.\n",
            "2021-05-04 19:07:02.388+0000 704287a1c18b (Agent STARTING) com.amazon.kinesis.streaming.agent.Agent [INFO] Agent: Starting up...\n",
            "2021-05-04 19:07:02.392+0000 704287a1c18b (Agent STARTING) com.amazon.kinesis.streaming.agent.Agent [INFO] Agent: Starting tailer for file fh:tf-cadabra_batch_sales:/data/*.log\n",
            "2021-05-04 19:07:02.410+0000 704287a1c18b (Agent STARTING) com.amazon.kinesis.streaming.agent.Agent [INFO] Agent: Starting tailer for file kinesis:tf-order-stream:/data/*.log\n",
            "2021-05-04 19:07:02.412+0000 704287a1c18b (Agent STARTING) com.amazon.kinesis.streaming.agent.Agent [INFO] Agent: Starting tailer for file fh:tf-weblogs:/var/log/httpd/*.log\n",
            "2021-05-04 19:07:02.414+0000 704287a1c18b (Agent STARTING) com.amazon.kinesis.streaming.agent.Agent [INFO] Agent: Starting tailer for file kinesis:tf-redshift-datastream:/data/*.log\n",
            "2021-05-04 19:07:02.415+0000 704287a1c18b (Agent STARTING) com.amazon.kinesis.streaming.agent.Agent [INFO] Agent: Startup completed in 27 ms.\n",
            "2021-05-04 19:07:32.433+0000 704287a1c18b (FileTailer[kinesis:tf-redshift-datastream:/data/*.log].MetricsEmitter RUNNING) com.amazon.kinesis.streaming.agent.tailing.FileTailer [INFO] FileTailer[kinesis:tf-redshift-datastream:/data/*.log]: Tailer Progress: Tailer has parsed 0 records (0 bytes), transformed 0 records, skipped 0 records, and has successfully sent 0 records to destination.\n",
            "2021-05-04 19:07:32.444+0000 704287a1c18b (FileTailer[fh:tf-cadabra_batch_sales:/data/*.log].MetricsEmitter RUNNING) com.amazon.kinesis.streaming.agent.tailing.FileTailer [INFO] FileTailer[fh:tf-cadabra_batch_sales:/data/*.log]: Tailer Progress: Tailer has parsed 0 records (0 bytes), transformed 0 records, skipped 0 records, and has successfully sent 0 records to destination.\n",
            "2021-05-04 19:07:32.442+0000 704287a1c18b (Agent.MetricsEmitter RUNNING) com.amazon.kinesis.streaming.agent.Agent [INFO] Agent: Progress: 0 records parsed (0 bytes), and 0 records sent successfully to destinations. Uptime: 30053ms\n",
            "2021-05-04 19:07:32.438+0000 704287a1c18b (FileTailer[kinesis:tf-order-stream:/data/*.log].MetricsEmitter RUNNING) com.amazon.kinesis.streaming.agent.tailing.FileTailer [INFO] FileTailer[kinesis:tf-order-stream:/data/*.log]: Tailer Progress: Tailer has parsed 0 records (0 bytes), transformed 0 records, skipped 0 records, and has successfully sent 0 records to destination.\n",
            "2021-05-04 19:07:32.438+0000 704287a1c18b (FileTailer[fh:tf-weblogs:/var/log/httpd/*.log].MetricsEmitter RUNNING) com.amazon.kinesis.streaming.agent.tailing.FileTailer [INFO] FileTailer[fh:tf-weblogs:/var/log/httpd/*.log]: Tailer Progress: Tailer has parsed 0 records (0 bytes), transformed 0 records, skipped 0 records, and has successfully sent 0 records to destination.\n",
            "2021-05-04 19:08:02.410+0000 704287a1c18b (FileTailer[fh:tf-cadabra_batch_sales:/data/*.log].MetricsEmitter RUNNING) com.amazon.kinesis.streaming.agent.tailing.FileTailer [INFO] FileTailer[fh:tf-cadabra_batch_sales:/data/*.log]: Tailer Progress: Tailer has parsed 0 records (0 bytes), transformed 0 records, skipped 0 records, and has successfully sent 0 records to destination.\n",
            "2021-05-04 19:08:02.415+0000 704287a1c18b (FileTailer[kinesis:tf-order-stream:/data/*.log].MetricsEmitter RUNNING) com.amazon.kinesis.streaming.agent.tailing.FileTailer [INFO] FileTailer[kinesis:tf-order-stream:/data/*.log]: Tailer Progress: Tailer has parsed 0 records (0 bytes), transformed 0 records, skipped 0 records, and has successfully sent 0 records to destination.\n",
            "2021-05-04 19:08:02.418+0000 704287a1c18b (FileTailer[kinesis:tf-redshift-datastream:/data/*.log].MetricsEmitter RUNNING) com.amazon.kinesis.streaming.agent.tailing.FileTailer [INFO] FileTailer[kinesis:tf-redshift-datastream:/data/*.log]: Tailer Progress: Tailer has parsed 0 records (0 bytes), transformed 0 records, skipped 0 records, and has successfully sent 0 records to destination.\n",
            "2021-05-04 19:08:02.415+0000 704287a1c18b (FileTailer[fh:tf-weblogs:/var/log/httpd/*.log].MetricsEmitter RUNNING) com.amazon.kinesis.streaming.agent.tailing.FileTailer [INFO] FileTailer[fh:tf-weblogs:/var/log/httpd/*.log]: Tailer Progress: Tailer has parsed 0 records (0 bytes), transformed 0 records, skipped 0 records, and has successfully sent 0 records to destination.\n",
            "2021-05-04 19:08:02.427+0000 704287a1c18b (Agent.MetricsEmitter RUNNING) com.amazon.kinesis.streaming.agent.Agent [INFO] Agent: Progress: 0 records parsed (0 bytes), and 0 records sent successfully to destinations. Uptime: 60038ms\n",
            "2021-05-04 19:08:32.410+0000 704287a1c18b (FileTailer[fh:tf-cadabra_batch_sales:/data/*.log].MetricsEmitter RUNNING) com.amazon.kinesis.streaming.agent.tailing.FileTailer [INFO] FileTailer[fh:tf-cadabra_batch_sales:/data/*.log]: Tailer Progress: Tailer has parsed 0 records (0 bytes), transformed 0 records, skipped 0 records, and has successfully sent 0 records to destination.\n",
            "2021-05-04 19:08:32.413+0000 704287a1c18b (FileTailer[kinesis:tf-order-stream:/data/*.log].MetricsEmitter RUNNING) com.amazon.kinesis.streaming.agent.tailing.FileTailer [INFO] FileTailer[kinesis:tf-order-stream:/data/*.log]: Tailer Progress: Tailer has parsed 0 records (0 bytes), transformed 0 records, skipped 0 records, and has successfully sent 0 records to destination.\n",
            "2021-05-04 19:08:32.415+0000 704287a1c18b (FileTailer[fh:tf-weblogs:/var/log/httpd/*.log].MetricsEmitter RUNNING) com.amazon.kinesis.streaming.agent.tailing.FileTailer [INFO] FileTailer[fh:tf-weblogs:/var/log/httpd/*.log]: Tailer Progress: Tailer has parsed 0 records (0 bytes), transformed 0 records, skipped 0 records, and has successfully sent 0 records to destination.\n",
            "2021-05-04 19:08:32.416+0000 704287a1c18b (FileTailer[kinesis:tf-redshift-datastream:/data/*.log].MetricsEmitter RUNNING) com.amazon.kinesis.streaming.agent.tailing.FileTailer [INFO] FileTailer[kinesis:tf-redshift-datastream:/data/*.log]: Tailer Progress: Tailer has parsed 0 records (0 bytes), transformed 0 records, skipped 0 records, and has successfully sent 0 records to destination.\n",
            "2021-05-04 19:08:32.417+0000 704287a1c18b (Agent.MetricsEmitter RUNNING) com.amazon.kinesis.streaming.agent.Agent [INFO] Agent: Progress: 0 records parsed (0 bytes), and 0 records sent successfully to destinations. Uptime: 90028ms\n",
            "2021-05-04 19:09:02.410+0000 704287a1c18b (FileTailer[fh:tf-cadabra_batch_sales:/data/*.log].MetricsEmitter RUNNING) com.amazon.kinesis.streaming.agent.tailing.FileTailer [INFO] FileTailer[fh:tf-cadabra_batch_sales:/data/*.log]: Tailer Progress: Tailer has parsed 0 records (0 bytes), transformed 0 records, skipped 0 records, and has successfully sent 0 records to destination.\n",
            "2021-05-04 19:09:02.413+0000 704287a1c18b (FileTailer[kinesis:tf-order-stream:/data/*.log].MetricsEmitter RUNNING) com.amazon.kinesis.streaming.agent.tailing.FileTailer [INFO] FileTailer[kinesis:tf-order-stream:/data/*.log]: Tailer Progress: Tailer has parsed 0 records (0 bytes), transformed 0 records, skipped 0 records, and has successfully sent 0 records to destination.\n",
            "2021-05-04 19:09:02.414+0000 704287a1c18b (FileTailer[fh:tf-weblogs:/var/log/httpd/*.log].MetricsEmitter RUNNING) com.amazon.kinesis.streaming.agent.tailing.FileTailer [INFO] FileTailer[fh:tf-weblogs:/var/log/httpd/*.log]: Tailer Progress: Tailer has parsed 0 records (0 bytes), transformed 0 records, skipped 0 records, and has successfully sent 0 records to destination.\n",
            "2021-05-04 19:09:02.416+0000 704287a1c18b (FileTailer[kinesis:tf-redshift-datastream:/data/*.log].MetricsEmitter RUNNING) com.amazon.kinesis.streaming.agent.tailing.FileTailer [INFO] FileTailer[kinesis:tf-redshift-datastream:/data/*.log]: Tailer Progress: Tailer has parsed 0 records (0 bytes), transformed 0 records, skipped 0 records, and has successfully sent 0 records to destination.\n",
            "2021-05-04 19:09:02.417+0000 704287a1c18b (Agent.MetricsEmitter RUNNING) com.amazon.kinesis.streaming.agent.Agent [INFO] Agent: Progress: 0 records parsed (0 bytes), and 0 records sent successfully to destinations. Uptime: 120029ms\n",
            "2021-05-04 19:09:32.410+0000 704287a1c18b (FileTailer[fh:tf-cadabra_batch_sales:/data/*.log].MetricsEmitter RUNNING) com.amazon.kinesis.streaming.agent.tailing.FileTailer [INFO] FileTailer[fh:tf-cadabra_batch_sales:/data/*.log]: Tailer Progress: Tailer has parsed 0 records (0 bytes), transformed 0 records, skipped 0 records, and has successfully sent 0 records to destination.\n",
            "2021-05-04 19:09:32.413+0000 704287a1c18b (FileTailer[kinesis:tf-order-stream:/data/*.log].MetricsEmitter RUNNING) com.amazon.kinesis.streaming.agent.tailing.FileTailer [INFO] FileTailer[kinesis:tf-order-stream:/data/*.log]: Tailer Progress: Tailer has parsed 0 records (0 bytes), transformed 0 records, skipped 0 records, and has successfully sent 0 records to destination.\n",
            "2021-05-04 19:09:32.414+0000 704287a1c18b (FileTailer[fh:tf-weblogs:/var/log/httpd/*.log].MetricsEmitter RUNNING) com.amazon.kinesis.streaming.agent.tailing.FileTailer [INFO] FileTailer[fh:tf-weblogs:/var/log/httpd/*.log]: Tailer Progress: Tailer has parsed 0 records (0 bytes), transformed 0 records, skipped 0 records, and has successfully sent 0 records to destination.\n",
            "2021-05-04 19:09:32.420+0000 704287a1c18b (FileTailer[kinesis:tf-redshift-datastream:/data/*.log].MetricsEmitter RUNNING) com.amazon.kinesis.streaming.agent.tailing.FileTailer [INFO] FileTailer[kinesis:tf-redshift-datastream:/data/*.log]: Tailer Progress: Tailer has parsed 0 records (0 bytes), transformed 0 records, skipped 0 records, and has successfully sent 0 records to destination.\n",
            "2021-05-04 19:09:32.422+0000 704287a1c18b (Agent.MetricsEmitter RUNNING) com.amazon.kinesis.streaming.agent.Agent [INFO] Agent: Progress: 0 records parsed (0 bytes), and 0 records sent successfully to destinations. Uptime: 150033ms\n",
            "2021-05-04 19:10:02.410+0000 704287a1c18b (FileTailer[fh:tf-cadabra_batch_sales:/data/*.log].MetricsEmitter RUNNING) com.amazon.kinesis.streaming.agent.tailing.FileTailer [INFO] FileTailer[fh:tf-cadabra_batch_sales:/data/*.log]: Tailer Progress: Tailer has parsed 0 records (0 bytes), transformed 0 records, skipped 0 records, and has successfully sent 0 records to destination.\n",
            "2021-05-04 19:10:02.413+0000 704287a1c18b (FileTailer[kinesis:tf-order-stream:/data/*.log].MetricsEmitter RUNNING) com.amazon.kinesis.streaming.agent.tailing.FileTailer [INFO] FileTailer[kinesis:tf-order-stream:/data/*.log]: Tailer Progress: Tailer has parsed 0 records (0 bytes), transformed 0 records, skipped 0 records, and has successfully sent 0 records to destination.\n",
            "2021-05-04 19:10:02.414+0000 704287a1c18b (FileTailer[fh:tf-weblogs:/var/log/httpd/*.log].MetricsEmitter RUNNING) com.amazon.kinesis.streaming.agent.tailing.FileTailer [INFO] FileTailer[fh:tf-weblogs:/var/log/httpd/*.log]: Tailer Progress: Tailer has parsed 0 records (0 bytes), transformed 0 records, skipped 0 records, and has successfully sent 0 records to destination.\n",
            "2021-05-04 19:10:02.415+0000 704287a1c18b (FileTailer[kinesis:tf-redshift-datastream:/data/*.log].MetricsEmitter RUNNING) com.amazon.kinesis.streaming.agent.tailing.FileTailer [INFO] FileTailer[kinesis:tf-redshift-datastream:/data/*.log]: Tailer Progress: Tailer has parsed 0 records (0 bytes), transformed 0 records, skipped 0 records, and has successfully sent 0 records to destination.\n",
            "2021-05-04 19:10:02.417+0000 704287a1c18b (Agent.MetricsEmitter RUNNING) com.amazon.kinesis.streaming.agent.Agent [INFO] Agent: Progress: 0 records parsed (0 bytes), and 0 records sent successfully to destinations. Uptime: 180028ms\n",
            "2021-05-04 19:10:32.410+0000 704287a1c18b (FileTailer[fh:tf-cadabra_batch_sales:/data/*.log].MetricsEmitter RUNNING) com.amazon.kinesis.streaming.agent.tailing.FileTailer [INFO] FileTailer[fh:tf-cadabra_batch_sales:/data/*.log]: Tailer Progress: Tailer has parsed 0 records (0 bytes), transformed 0 records, skipped 0 records, and has successfully sent 0 records to destination.\n",
            "2021-05-04 19:10:32.413+0000 704287a1c18b (FileTailer[kinesis:tf-order-stream:/data/*.log].MetricsEmitter RUNNING) com.amazon.kinesis.streaming.agent.tailing.FileTailer [INFO] FileTailer[kinesis:tf-order-stream:/data/*.log]: Tailer Progress: Tailer has parsed 0 records (0 bytes), transformed 0 records, skipped 0 records, and has successfully sent 0 records to destination.\n",
            "2021-05-04 19:10:32.414+0000 704287a1c18b (FileTailer[fh:tf-weblogs:/var/log/httpd/*.log].MetricsEmitter RUNNING) com.amazon.kinesis.streaming.agent.tailing.FileTailer [INFO] FileTailer[fh:tf-weblogs:/var/log/httpd/*.log]: Tailer Progress: Tailer has parsed 0 records (0 bytes), transformed 0 records, skipped 0 records, and has successfully sent 0 records to destination.\n",
            "2021-05-04 19:10:32.415+0000 704287a1c18b (FileTailer[kinesis:tf-redshift-datastream:/data/*.log].MetricsEmitter RUNNING) com.amazon.kinesis.streaming.agent.tailing.FileTailer [INFO] FileTailer[kinesis:tf-redshift-datastream:/data/*.log]: Tailer Progress: Tailer has parsed 0 records (0 bytes), transformed 0 records, skipped 0 records, and has successfully sent 0 records to destination.\n",
            "2021-05-04 19:10:32.417+0000 704287a1c18b (Agent.MetricsEmitter RUNNING) com.amazon.kinesis.streaming.agent.Agent [INFO] Agent: Progress: 0 records parsed (0 bytes), and 0 records sent successfully to destinations. Uptime: 210028ms\n",
            "2021-05-04 19:11:02.410+0000 704287a1c18b (FileTailer[fh:tf-cadabra_batch_sales:/data/*.log].MetricsEmitter RUNNING) com.amazon.kinesis.streaming.agent.tailing.FileTailer [INFO] FileTailer[fh:tf-cadabra_batch_sales:/data/*.log]: Tailer Progress: Tailer has parsed 0 records (0 bytes), transformed 0 records, skipped 0 records, and has successfully sent 0 records to destination.\n",
            "2021-05-04 19:11:02.413+0000 704287a1c18b (FileTailer[kinesis:tf-order-stream:/data/*.log].MetricsEmitter RUNNING) com.amazon.kinesis.streaming.agent.tailing.FileTailer [INFO] FileTailer[kinesis:tf-order-stream:/data/*.log]: Tailer Progress: Tailer has parsed 0 records (0 bytes), transformed 0 records, skipped 0 records, and has successfully sent 0 records to destination.\n",
            "2021-05-04 19:11:02.414+0000 704287a1c18b (FileTailer[fh:tf-weblogs:/var/log/httpd/*.log].MetricsEmitter RUNNING) com.amazon.kinesis.streaming.agent.tailing.FileTailer [INFO] FileTailer[fh:tf-weblogs:/var/log/httpd/*.log]: Tailer Progress: Tailer has parsed 0 records (0 bytes), transformed 0 records, skipped 0 records, and has successfully sent 0 records to destination.\n",
            "2021-05-04 19:11:02.415+0000 704287a1c18b (FileTailer[kinesis:tf-redshift-datastream:/data/*.log].MetricsEmitter RUNNING) com.amazon.kinesis.streaming.agent.tailing.FileTailer [INFO] FileTailer[kinesis:tf-redshift-datastream:/data/*.log]: Tailer Progress: Tailer has parsed 0 records (0 bytes), transformed 0 records, skipped 0 records, and has successfully sent 0 records to destination.\n",
            "2021-05-04 19:11:02.417+0000 704287a1c18b (Agent.MetricsEmitter RUNNING) com.amazon.kinesis.streaming.agent.Agent [INFO] Agent: Progress: 0 records parsed (0 bytes), and 0 records sent successfully to destinations. Uptime: 240028ms\n",
            "2021-05-04 19:11:32.410+0000 704287a1c18b (FileTailer[fh:tf-cadabra_batch_sales:/data/*.log].MetricsEmitter RUNNING) com.amazon.kinesis.streaming.agent.tailing.FileTailer [INFO] FileTailer[fh:tf-cadabra_batch_sales:/data/*.log]: Tailer Progress: Tailer has parsed 0 records (0 bytes), transformed 0 records, skipped 0 records, and has successfully sent 0 records to destination.\n",
            "2021-05-04 19:11:32.413+0000 704287a1c18b (FileTailer[kinesis:tf-order-stream:/data/*.log].MetricsEmitter RUNNING) com.amazon.kinesis.streaming.agent.tailing.FileTailer [INFO] FileTailer[kinesis:tf-order-stream:/data/*.log]: Tailer Progress: Tailer has parsed 0 records (0 bytes), transformed 0 records, skipped 0 records, and has successfully sent 0 records to destination.\n",
            "2021-05-04 19:11:32.414+0000 704287a1c18b (FileTailer[fh:tf-weblogs:/var/log/httpd/*.log].MetricsEmitter RUNNING) com.amazon.kinesis.streaming.agent.tailing.FileTailer [INFO] FileTailer[fh:tf-weblogs:/var/log/httpd/*.log]: Tailer Progress: Tailer has parsed 0 records (0 bytes), transformed 0 records, skipped 0 records, and has successfully sent 0 records to destination.\n",
            "2021-05-04 19:11:32.417+0000 704287a1c18b (FileTailer[kinesis:tf-redshift-datastream:/data/*.log].MetricsEmitter RUNNING) com.amazon.kinesis.streaming.agent.tailing.FileTailer [INFO] FileTailer[kinesis:tf-redshift-datastream:/data/*.log]: Tailer Progress: Tailer has parsed 0 records (0 bytes), transformed 0 records, skipped 0 records, and has successfully sent 0 records to destination.\n",
            "2021-05-04 19:11:32.417+0000 704287a1c18b (Agent.MetricsEmitter RUNNING) com.amazon.kinesis.streaming.agent.Agent [INFO] Agent: Progress: 0 records parsed (0 bytes), and 0 records sent successfully to destinations. Uptime: 270028ms\n",
            "2021-05-04 19:12:02.410+0000 704287a1c18b (FileTailer[fh:tf-cadabra_batch_sales:/data/*.log].MetricsEmitter RUNNING) com.amazon.kinesis.streaming.agent.tailing.FileTailer [INFO] FileTailer[fh:tf-cadabra_batch_sales:/data/*.log]: Tailer Progress: Tailer has parsed 0 records (0 bytes), transformed 0 records, skipped 0 records, and has successfully sent 0 records to destination.\n",
            "2021-05-04 19:12:02.413+0000 704287a1c18b (FileTailer[kinesis:tf-order-stream:/data/*.log].MetricsEmitter RUNNING) com.amazon.kinesis.streaming.agent.tailing.FileTailer [INFO] FileTailer[kinesis:tf-order-stream:/data/*.log]: Tailer Progress: Tailer has parsed 0 records (0 bytes), transformed 0 records, skipped 0 records, and has successfully sent 0 records to destination.\n",
            "2021-05-04 19:12:02.414+0000 704287a1c18b (FileTailer[fh:tf-weblogs:/var/log/httpd/*.log].MetricsEmitter RUNNING) com.amazon.kinesis.streaming.agent.tailing.FileTailer [INFO] FileTailer[fh:tf-weblogs:/var/log/httpd/*.log]: Tailer Progress: Tailer has parsed 0 records (0 bytes), transformed 0 records, skipped 0 records, and has successfully sent 0 records to destination.\n",
            "2021-05-04 19:12:02.416+0000 704287a1c18b (FileTailer[kinesis:tf-redshift-datastream:/data/*.log].MetricsEmitter RUNNING) com.amazon.kinesis.streaming.agent.tailing.FileTailer [INFO] FileTailer[kinesis:tf-redshift-datastream:/data/*.log]: Tailer Progress: Tailer has parsed 0 records (0 bytes), transformed 0 records, skipped 0 records, and has successfully sent 0 records to destination.\n",
            "2021-05-04 19:12:02.417+0000 704287a1c18b (Agent.MetricsEmitter RUNNING) com.amazon.kinesis.streaming.agent.Agent [INFO] Agent: Progress: 0 records parsed (0 bytes), and 0 records sent successfully to destinations. Uptime: 300028ms\n"
          ],
          "name": "stdout"
        }
      ]
    },
    {
      "cell_type": "markdown",
      "metadata": {
        "id": "TmirzV9vaHx4"
      },
      "source": [
        "# Generate Data"
      ]
    },
    {
      "cell_type": "code",
      "metadata": {
        "id": "PaOHJVUnUW32",
        "colab": {
          "base_uri": "https://localhost:8080/"
        },
        "outputId": "5f26507f-eb73-4d34-cf67-44038db04178"
      },
      "source": [
        "!mkdir -p {TRANSACTIONS_DIR}\n",
        "%cd {HOME}"
      ],
      "execution_count": null,
      "outputs": [
        {
          "output_type": "stream",
          "text": [
            "/root\n"
          ],
          "name": "stdout"
        }
      ]
    },
    {
      "cell_type": "markdown",
      "metadata": {
        "id": "EPmohfzuVwp3"
      },
      "source": [
        "## Get Requirements"
      ]
    },
    {
      "cell_type": "code",
      "metadata": {
        "id": "8vGjAEdGWCI2"
      },
      "source": [
        "#get requirements.txt\n",
        "!wget --no-check-certificate -q 'https://docs.google.com/uc?export=download&id=1-HiavLHD1DPYov9YVyH-xJ4ggdN4AahF' -O requirements.txt"
      ],
      "execution_count": null,
      "outputs": []
    },
    {
      "cell_type": "code",
      "metadata": {
        "id": "wV0P2xGtWCI2",
        "colab": {
          "base_uri": "https://localhost:8080/"
        },
        "outputId": "de9acdac-80ce-4ed4-e18b-0f58bf2260c0"
      },
      "source": [
        "!pip install -r requirements.txt "
      ],
      "execution_count": null,
      "outputs": [
        {
          "output_type": "stream",
          "text": [
            "Collecting boto3\n",
            "\u001b[?25l  Downloading https://files.pythonhosted.org/packages/15/88/a600188df37b28fd501d43424568c4119074e65188437e5bdc7786bd085c/boto3-1.17.64-py2.py3-none-any.whl (131kB)\n",
            "\u001b[K     |████████████████████████████████| 133kB 15.8MB/s \n",
            "\u001b[?25hCollecting Faker\n",
            "\u001b[?25l  Downloading https://files.pythonhosted.org/packages/4e/05/eb245d15f94417099abc60c6538d62c034b311d3af879242785ef1467b2c/Faker-8.1.2-py3-none-any.whl (1.2MB)\n",
            "\u001b[K     |████████████████████████████████| 1.2MB 23.4MB/s \n",
            "\u001b[?25hCollecting botocore<1.21.0,>=1.20.64\n",
            "\u001b[?25l  Downloading https://files.pythonhosted.org/packages/58/35/2a91c07c5398b135b35f2c28c35733ba1ac5c094e7dfae1937daae861fd1/botocore-1.20.64-py2.py3-none-any.whl (7.5MB)\n",
            "\u001b[K     |████████████████████████████████| 7.5MB 34.6MB/s \n",
            "\u001b[?25hCollecting jmespath<1.0.0,>=0.7.1\n",
            "  Downloading https://files.pythonhosted.org/packages/07/cb/5f001272b6faeb23c1c9e0acc04d48eaaf5c862c17709d20e3469c6e0139/jmespath-0.10.0-py2.py3-none-any.whl\n",
            "Collecting s3transfer<0.5.0,>=0.4.0\n",
            "\u001b[?25l  Downloading https://files.pythonhosted.org/packages/63/d0/693477c688348654ddc21dcdce0817653a294aa43f41771084c25e7ff9c7/s3transfer-0.4.2-py2.py3-none-any.whl (79kB)\n",
            "\u001b[K     |████████████████████████████████| 81kB 7.8MB/s \n",
            "\u001b[?25hRequirement already satisfied: python-dateutil>=2.4 in /usr/local/lib/python3.7/dist-packages (from Faker->-r requirements.txt (line 2)) (2.8.1)\n",
            "Requirement already satisfied: text-unidecode==1.3 in /usr/local/lib/python3.7/dist-packages (from Faker->-r requirements.txt (line 2)) (1.3)\n",
            "Collecting urllib3<1.27,>=1.25.4\n",
            "\u001b[?25l  Downloading https://files.pythonhosted.org/packages/09/c6/d3e3abe5b4f4f16cf0dfc9240ab7ce10c2baa0e268989a4e3ec19e90c84e/urllib3-1.26.4-py2.py3-none-any.whl (153kB)\n",
            "\u001b[K     |████████████████████████████████| 153kB 44.9MB/s \n",
            "\u001b[?25hRequirement already satisfied: six>=1.5 in /usr/local/lib/python3.7/dist-packages (from python-dateutil>=2.4->Faker->-r requirements.txt (line 2)) (1.15.0)\n",
            "\u001b[31mERROR: requests 2.23.0 has requirement urllib3!=1.25.0,!=1.25.1,<1.26,>=1.21.1, but you'll have urllib3 1.26.4 which is incompatible.\u001b[0m\n",
            "\u001b[31mERROR: datascience 0.10.6 has requirement folium==0.2.1, but you'll have folium 0.8.3 which is incompatible.\u001b[0m\n",
            "Installing collected packages: jmespath, urllib3, botocore, s3transfer, boto3, Faker\n",
            "  Found existing installation: urllib3 1.24.3\n",
            "    Uninstalling urllib3-1.24.3:\n",
            "      Successfully uninstalled urllib3-1.24.3\n",
            "Successfully installed Faker-8.1.2 boto3-1.17.64 botocore-1.20.64 jmespath-0.10.0 s3transfer-0.4.2 urllib3-1.26.4\n"
          ],
          "name": "stdout"
        }
      ]
    },
    {
      "cell_type": "markdown",
      "metadata": {
        "id": "J4DKbixDV0_N"
      },
      "source": [
        "## Download Source Files and Data Template"
      ]
    },
    {
      "cell_type": "code",
      "metadata": {
        "id": "7l_Yl9ppxImI",
        "colab": {
          "base_uri": "https://localhost:8080/"
        },
        "outputId": "6b1f584c-b430-482c-8065-d49ff2b6cc93"
      },
      "source": [
        "!ls -ltr"
      ],
      "execution_count": null,
      "outputs": [
        {
          "output_type": "stream",
          "text": [
            "total 248\n",
            "-rw-r--r-- 1 root root 244258 Apr 19 00:10 1.1.4.tar.gz\n",
            "drwxrwxr-x 9 root root   4096 Apr 19 00:10 amazon-kinesis-agent\n",
            "-rw-r--r-- 1 root root     11 Apr 19 00:10 requirements.txt\n"
          ],
          "name": "stdout"
        }
      ]
    },
    {
      "cell_type": "code",
      "metadata": {
        "id": "sTn6YMoEdgEb"
      },
      "source": [
        "!wget --no-check-certificate -q 'https://docs.google.com/uc?export=download&id=1gDonM3p8OKk9nKCb853N3jxLZ5qsE9pF' -O cadabra_products.csv"
      ],
      "execution_count": null,
      "outputs": []
    },
    {
      "cell_type": "code",
      "metadata": {
        "id": "ZOk4R5B-RvoS",
        "colab": {
          "base_uri": "https://localhost:8080/"
        },
        "outputId": "2e7519c0-81e4-45a2-8e29-0561ea005e98"
      },
      "source": [
        "!wget https://raw.githubusercontent.com/tadinve/rsa_on_aws/main/src/python_code/transaction_generator.py -O transaction_generator.py"
      ],
      "execution_count": null,
      "outputs": [
        {
          "output_type": "stream",
          "text": [
            "--2021-05-04 19:12:50--  https://raw.githubusercontent.com/tadinve/rsa_on_aws/main/src/python_code/transaction_generator.py\n",
            "Resolving raw.githubusercontent.com (raw.githubusercontent.com)... 185.199.108.133, 185.199.109.133, 185.199.110.133, ...\n",
            "Connecting to raw.githubusercontent.com (raw.githubusercontent.com)|185.199.108.133|:443... connected.\n",
            "HTTP request sent, awaiting response... 200 OK\n",
            "Length: 2313 (2.3K) [text/plain]\n",
            "Saving to: ‘transaction_generator.py’\n",
            "\n",
            "\rtransaction_generat   0%[                    ]       0  --.-KB/s               \rtransaction_generat 100%[===================>]   2.26K  --.-KB/s    in 0s      \n",
            "\n",
            "2021-05-04 19:12:50 (36.5 MB/s) - ‘transaction_generator.py’ saved [2313/2313]\n",
            "\n"
          ],
          "name": "stdout"
        }
      ]
    },
    {
      "cell_type": "code",
      "metadata": {
        "id": "V3YAurspk_hr"
      },
      "source": [
        "!wget --no-check-certificate -q 'https://raw.githubusercontent.com/tadinve/rsa_on_aws/main/src/python_code/create_redshift_tables.py' -O create_redshift_tables.py"
      ],
      "execution_count": null,
      "outputs": []
    },
    {
      "cell_type": "code",
      "metadata": {
        "colab": {
          "base_uri": "https://localhost:8080/"
        },
        "id": "sTo4nLg_lMKR",
        "outputId": "19723570-67cf-4953-9f8f-64080c0c4659"
      },
      "source": [
        "#Create Target Schema and Tables in Redshift\n",
        "from create_redshift_tables import create_schema_tables\n",
        "create_schema_tables('dev','awsuser')"
      ],
      "execution_count": null,
      "outputs": [
        {
          "output_type": "stream",
          "text": [
            "{'ClusterIdentifier': 'tf-redshift-cluster', 'CreatedAt': datetime.datetime(2021, 5, 4, 19, 12, 58, 891000, tzinfo=tzlocal()), 'Database': 'dev', 'DbUser': 'awsuser', 'Id': 'a98540de-6892-47ac-ae0b-1da0aaac5439', 'ResponseMetadata': {'RequestId': 'ba9118e6-5c82-497c-8dc6-8b119b5e0129', 'HTTPStatusCode': 200, 'HTTPHeaders': {'x-amzn-requestid': 'ba9118e6-5c82-497c-8dc6-8b119b5e0129', 'content-type': 'application/x-amz-json-1.1', 'content-length': '152', 'date': 'Tue, 04 May 2021 19:12:59 GMT'}, 'RetryAttempts': 0}}\n",
            "{'ClusterIdentifier': 'tf-redshift-cluster', 'CreatedAt': datetime.datetime(2021, 5, 4, 19, 13, 4, 166000, tzinfo=tzlocal()), 'Database': 'dev', 'DbUser': 'awsuser', 'Id': 'f603d210-0527-4c42-8b8f-c107464d0370', 'ResponseMetadata': {'RequestId': 'e7d567e6-fdb9-4eae-bff8-24abfaa1e78a', 'HTTPStatusCode': 200, 'HTTPHeaders': {'x-amzn-requestid': 'e7d567e6-fdb9-4eae-bff8-24abfaa1e78a', 'content-type': 'application/x-amz-json-1.1', 'content-length': '152', 'date': 'Tue, 04 May 2021 19:13:04 GMT'}, 'RetryAttempts': 0}}\n"
          ],
          "name": "stdout"
        }
      ]
    },
    {
      "cell_type": "code",
      "metadata": {
        "id": "Tf8CCVOsDaFJ",
        "colab": {
          "base_uri": "https://localhost:8080/"
        },
        "outputId": "450e7987-644d-4e87-83c6-7be7fc6f9354"
      },
      "source": [
        "!wget -O access.log.zip https://www.dropbox.com/s/8spgz9gfbeaa34k/KagglWebLogs.zip"
      ],
      "execution_count": null,
      "outputs": [
        {
          "output_type": "stream",
          "text": [
            "--2021-04-19 00:10:59--  https://www.dropbox.com/s/8spgz9gfbeaa34k/KagglWebLogs.zip\n",
            "Resolving www.dropbox.com (www.dropbox.com)... 162.125.6.18, 2620:100:601c:18::a27d:612\n",
            "Connecting to www.dropbox.com (www.dropbox.com)|162.125.6.18|:443... connected.\n",
            "HTTP request sent, awaiting response... 301 Moved Permanently\n",
            "Location: /s/raw/8spgz9gfbeaa34k/KagglWebLogs.zip [following]\n",
            "--2021-04-19 00:10:59--  https://www.dropbox.com/s/raw/8spgz9gfbeaa34k/KagglWebLogs.zip\n",
            "Reusing existing connection to www.dropbox.com:443.\n",
            "HTTP request sent, awaiting response... 302 Found\n",
            "Location: https://uc0f65ceb1163ee37e6d8637520d.dl.dropboxusercontent.com/cd/0/inline/BM6wQwrkoflyL5jQy-HnIYpsEq2bTTBKHOXoOBX1wJ2aippq23k3CdVgNOVrQ4LCkxtfEkCniLy6SehBop84TP7WadcC5dtkwcZkU0XbJNgW20UFCRRuSpK704BGacBiCLfX_-dMpeLifadG_76oLHEp/file# [following]\n",
            "--2021-04-19 00:10:59--  https://uc0f65ceb1163ee37e6d8637520d.dl.dropboxusercontent.com/cd/0/inline/BM6wQwrkoflyL5jQy-HnIYpsEq2bTTBKHOXoOBX1wJ2aippq23k3CdVgNOVrQ4LCkxtfEkCniLy6SehBop84TP7WadcC5dtkwcZkU0XbJNgW20UFCRRuSpK704BGacBiCLfX_-dMpeLifadG_76oLHEp/file\n",
            "Resolving uc0f65ceb1163ee37e6d8637520d.dl.dropboxusercontent.com (uc0f65ceb1163ee37e6d8637520d.dl.dropboxusercontent.com)... 162.125.6.15, 2620:100:601c:15::a27d:60f\n",
            "Connecting to uc0f65ceb1163ee37e6d8637520d.dl.dropboxusercontent.com (uc0f65ceb1163ee37e6d8637520d.dl.dropboxusercontent.com)|162.125.6.15|:443... connected.\n",
            "HTTP request sent, awaiting response... 302 Found\n",
            "Location: /cd/0/inline2/BM7TNRbYW6zA5n5YvqyiGtpVOMtHXaMmCTQIHmv--pZywl3KrRNZdwHNO4k_-yYISq5sxpeuLuUrCOK9prJnha6HCizHBidY1-JsCYSuYj4GOV6SGtpkLSgd1yuG_1eT7MEgstFaekYAPXKW1hhByELCyR23LLR7SN-ZRzBkAfwF3xixoRGO9thZUwYpsfzMZGUnQ1UX1D7yi2AM-FJTifhmbld0x1WNDJzLzE_r8WmbVXuN18OoyXCfpNzvxdDoxQKBFLEQtqnTqOKfKLtqLztcslNH63Olzv6WEnunb6sW5MtMgkhAyHqUy7H-Ki460a3_ygNfNtvWFfdWSXOpJicTVQ9pNiGdp1eNMmDjibPE_8pPSmrKbPgVbIUl3QeOyU8/file [following]\n",
            "--2021-04-19 00:11:00--  https://uc0f65ceb1163ee37e6d8637520d.dl.dropboxusercontent.com/cd/0/inline2/BM7TNRbYW6zA5n5YvqyiGtpVOMtHXaMmCTQIHmv--pZywl3KrRNZdwHNO4k_-yYISq5sxpeuLuUrCOK9prJnha6HCizHBidY1-JsCYSuYj4GOV6SGtpkLSgd1yuG_1eT7MEgstFaekYAPXKW1hhByELCyR23LLR7SN-ZRzBkAfwF3xixoRGO9thZUwYpsfzMZGUnQ1UX1D7yi2AM-FJTifhmbld0x1WNDJzLzE_r8WmbVXuN18OoyXCfpNzvxdDoxQKBFLEQtqnTqOKfKLtqLztcslNH63Olzv6WEnunb6sW5MtMgkhAyHqUy7H-Ki460a3_ygNfNtvWFfdWSXOpJicTVQ9pNiGdp1eNMmDjibPE_8pPSmrKbPgVbIUl3QeOyU8/file\n",
            "Reusing existing connection to uc0f65ceb1163ee37e6d8637520d.dl.dropboxusercontent.com:443.\n",
            "HTTP request sent, awaiting response... 200 OK\n",
            "Length: 279607491 (267M) [application/zip]\n",
            "Saving to: ‘access.log.zip’\n",
            "\n",
            "access.log.zip      100%[===================>] 266.65M   152MB/s    in 1.8s    \n",
            "\n",
            "2021-04-19 00:11:02 (152 MB/s) - ‘access.log.zip’ saved [279607491/279607491]\n",
            "\n"
          ],
          "name": "stdout"
        }
      ]
    },
    {
      "cell_type": "markdown",
      "metadata": {
        "id": "7t5S3u9BWIgv"
      },
      "source": [
        "## Generate Transactions"
      ]
    },
    {
      "cell_type": "code",
      "metadata": {
        "id": "SayKntZ37XTf"
      },
      "source": [
        "from transaction_generator import generateTransactions\n",
        "outfile = TRANSACTIONS_DIR+\"test.log\"\n",
        "generateTransactions(n=2500,OutFile=outfile)"
      ],
      "execution_count": null,
      "outputs": []
    },
    {
      "cell_type": "code",
      "metadata": {
        "id": "J3o7o-raaHx5",
        "colab": {
          "base_uri": "https://localhost:8080/"
        },
        "outputId": "257a94be-adf6-4e8c-9dac-90e27f83d911"
      },
      "source": [
        "!head {outfile}"
      ],
      "execution_count": null,
      "outputs": [
        {
          "output_type": "stream",
          "text": [
            "0,22817,CARD SUKI BIRTHDAY,1,01/01/2018 00:00:00,0.45,2810849,Palau\n",
            "1,21794,CLASSIC FRENCH STYLE BASKET NATURAL,7,01/01/2018 11:20:15,2.62,3626622,Pakistan\n",
            "2,35915C,PEACH KNITTED HEN ,0,01/01/2018 22:40:30,1.36,5424886,Greenland\n",
            "3,85150,LADIES & GENTLEMEN METAL SIGN,0,01/02/2018 10:00:46,4.22,5205044,Ireland\n",
            "4,23035,DRAWER KNOB CERAMIC IVORY,17,01/02/2018 21:21:01,2.09,8149855,Sudan\n",
            "5,21508,VINTAGE KID DOLLY CARD ,11,01/03/2018 08:41:16,0.44,6165043,French Polynesia\n",
            "6,21731,RED TOADSTOOL LED NIGHT LIGHT,-7,01/03/2018 20:01:32,2.62,7330086,Saint Kitts and Nevis\n",
            "7,22028,PENNY FARTHING BIRTHDAY CARD,-11,01/04/2018 07:21:47,0.70,6268386,Montserrat\n",
            "8,22192,BLUE DINER WALL CLOCK,10,01/04/2018 18:42:02,7.57,8428852,French Southern Territories\n",
            "9,21703,BAG 125g SWIRLY MARBLES,-7,01/05/2018 06:02:18,0.62,3080538,Yemen\n"
          ],
          "name": "stdout"
        }
      ]
    },
    {
      "cell_type": "code",
      "metadata": {
        "id": "4e2-SDeoaHx5"
      },
      "source": [
        "!sleep 60"
      ],
      "execution_count": null,
      "outputs": []
    },
    {
      "cell_type": "code",
      "metadata": {
        "id": "C1MCUZu8DcBE",
        "colab": {
          "base_uri": "https://localhost:8080/"
        },
        "outputId": "7006e3ad-c8da-468c-d04a-61eacaaf949b"
      },
      "source": [
        "!unzip access.log.zip\n",
        "!mkdir -p /var/log/httpd/\n",
        "!mv access.log /var/log/httpd/"
      ],
      "execution_count": null,
      "outputs": [
        {
          "output_type": "stream",
          "text": [
            "Archive:  access.log.zip\n",
            "  inflating: access.log              \n",
            "  inflating: client_hostname.csv     \n"
          ],
          "name": "stdout"
        }
      ]
    },
    {
      "cell_type": "markdown",
      "metadata": {
        "id": "2okU2OA1WL7b"
      },
      "source": [
        "## Check Logs"
      ]
    },
    {
      "cell_type": "code",
      "metadata": {
        "id": "G7TXTE7baHx5",
        "colab": {
          "base_uri": "https://localhost:8080/"
        },
        "outputId": "1046a4a0-2696-4ff3-ca6a-9ef0f381903f"
      },
      "source": [
        "!tail /var/log/aws-kinesis-agent/aws-kinesis-agent.log  "
      ],
      "execution_count": null,
      "outputs": [
        {
          "output_type": "stream",
          "text": [
            "2021-05-04 19:15:02.410+0000 704287a1c18b (FileTailer[fh:tf-cadabra_batch_sales:/data/*.log].MetricsEmitter RUNNING) com.amazon.kinesis.streaming.agent.tailing.FileTailer [INFO] FileTailer[fh:tf-cadabra_batch_sales:/data/*.log]: Tailer Progress: Tailer has parsed 2500 records (213537 bytes), transformed 0 records, skipped 0 records, and has successfully sent 2500 records to destination.\n",
            "2021-05-04 19:15:02.413+0000 704287a1c18b (FileTailer[kinesis:tf-order-stream:/data/*.log].MetricsEmitter RUNNING) com.amazon.kinesis.streaming.agent.tailing.FileTailer [INFO] FileTailer[kinesis:tf-order-stream:/data/*.log]: Tailer Progress: Tailer has parsed 2500 records (213537 bytes), transformed 2500 records, skipped 0 records, and has successfully sent 2500 records to destination.\n",
            "2021-05-04 19:15:02.414+0000 704287a1c18b (FileTailer[fh:tf-weblogs:/var/log/httpd/*.log].MetricsEmitter RUNNING) com.amazon.kinesis.streaming.agent.tailing.FileTailer [INFO] FileTailer[fh:tf-weblogs:/var/log/httpd/*.log]: Tailer Progress: Tailer has parsed 0 records (0 bytes), transformed 0 records, skipped 0 records, and has successfully sent 0 records to destination.\n",
            "2021-05-04 19:15:02.415+0000 704287a1c18b (FileTailer[kinesis:tf-redshift-datastream:/data/*.log].MetricsEmitter RUNNING) com.amazon.kinesis.streaming.agent.tailing.FileTailer [INFO] FileTailer[kinesis:tf-redshift-datastream:/data/*.log]: Tailer Progress: Tailer has parsed 2500 records (213537 bytes), transformed 0 records, skipped 0 records, and has successfully sent 2500 records to destination.\n",
            "2021-05-04 19:15:02.418+0000 704287a1c18b (Agent.MetricsEmitter RUNNING) com.amazon.kinesis.streaming.agent.Agent [INFO] Agent: Progress: 7500 records parsed (640611 bytes), and 7500 records sent successfully to destinations. Uptime: 480029ms\n",
            "2021-05-04 19:15:32.410+0000 704287a1c18b (FileTailer[fh:tf-cadabra_batch_sales:/data/*.log].MetricsEmitter RUNNING) com.amazon.kinesis.streaming.agent.tailing.FileTailer [INFO] FileTailer[fh:tf-cadabra_batch_sales:/data/*.log]: Tailer Progress: Tailer has parsed 2500 records (213537 bytes), transformed 0 records, skipped 0 records, and has successfully sent 2500 records to destination.\n",
            "2021-05-04 19:15:32.413+0000 704287a1c18b (FileTailer[kinesis:tf-order-stream:/data/*.log].MetricsEmitter RUNNING) com.amazon.kinesis.streaming.agent.tailing.FileTailer [INFO] FileTailer[kinesis:tf-order-stream:/data/*.log]: Tailer Progress: Tailer has parsed 2500 records (213537 bytes), transformed 2500 records, skipped 0 records, and has successfully sent 2500 records to destination.\n",
            "2021-05-04 19:15:32.414+0000 704287a1c18b (FileTailer[fh:tf-weblogs:/var/log/httpd/*.log].MetricsEmitter RUNNING) com.amazon.kinesis.streaming.agent.tailing.FileTailer [INFO] FileTailer[fh:tf-weblogs:/var/log/httpd/*.log]: Tailer Progress: Tailer has parsed 0 records (0 bytes), transformed 0 records, skipped 0 records, and has successfully sent 0 records to destination.\n",
            "2021-05-04 19:15:32.415+0000 704287a1c18b (FileTailer[kinesis:tf-redshift-datastream:/data/*.log].MetricsEmitter RUNNING) com.amazon.kinesis.streaming.agent.tailing.FileTailer [INFO] FileTailer[kinesis:tf-redshift-datastream:/data/*.log]: Tailer Progress: Tailer has parsed 2500 records (213537 bytes), transformed 0 records, skipped 0 records, and has successfully sent 2500 records to destination.\n",
            "2021-05-04 19:15:32.417+0000 704287a1c18b (Agent.MetricsEmitter RUNNING) com.amazon.kinesis.streaming.agent.Agent [INFO] Agent: Progress: 7500 records parsed (640611 bytes), and 7500 records sent successfully to destinations. Uptime: 510028ms\n"
          ],
          "name": "stdout"
        }
      ]
    },
    {
      "cell_type": "markdown",
      "metadata": {
        "id": "4Y2XHTyap5iF"
      },
      "source": [
        "# Run Glue Crawler using aws CLI"
      ]
    },
    {
      "cell_type": "code",
      "metadata": {
        "id": "xKGUnE_658tQ",
        "colab": {
          "base_uri": "https://localhost:8080/"
        },
        "outputId": "5b791f0d-d0e7-4f39-ebe2-29f7b90eac4a"
      },
      "source": [
        "%cd {HOME}"
      ],
      "execution_count": null,
      "outputs": [
        {
          "output_type": "stream",
          "text": [
            "/root\n"
          ],
          "name": "stdout"
        }
      ]
    },
    {
      "cell_type": "code",
      "metadata": {
        "id": "OD45VIRqTF6k",
        "colab": {
          "base_uri": "https://localhost:8080/"
        },
        "outputId": "990a8aaf-f632-4efe-b0ff-0cafb6a739ed"
      },
      "source": [
        "!aws --version"
      ],
      "execution_count": null,
      "outputs": [
        {
          "output_type": "stream",
          "text": [
            "aws-cli/2.2.1 Python/3.8.8 Linux/4.19.112+ exe/x86_64.ubuntu.18 prompt/off\n"
          ],
          "name": "stdout"
        }
      ]
    },
    {
      "cell_type": "code",
      "metadata": {
        "id": "hT3YEVG3qAzF"
      },
      "source": [
        "!aws glue start-crawler --name tf-cadabra_crawler"
      ],
      "execution_count": null,
      "outputs": []
    },
    {
      "cell_type": "code",
      "metadata": {
        "id": "iNgo8iY98joM"
      },
      "source": [
        "!sleep 130"
      ],
      "execution_count": null,
      "outputs": []
    },
    {
      "cell_type": "code",
      "metadata": {
        "id": "AV4vg0CTSEKF",
        "colab": {
          "base_uri": "https://localhost:8080/"
        },
        "outputId": "14ab8f7b-7deb-42d6-9e1c-e5c27e12bb89"
      },
      "source": [
        "!wget https://raw.githubusercontent.com/tadinve/rsa_on_aws/main/src/python_code/glue_schema_rename.py "
      ],
      "execution_count": null,
      "outputs": [
        {
          "output_type": "stream",
          "text": [
            "--2021-05-04 19:25:45--  https://raw.githubusercontent.com/tadinve/rsa_on_aws/main/src/python_code/glue_schema_rename.py\n",
            "Resolving raw.githubusercontent.com (raw.githubusercontent.com)... 185.199.108.133, 185.199.109.133, 185.199.110.133, ...\n",
            "Connecting to raw.githubusercontent.com (raw.githubusercontent.com)|185.199.108.133|:443... connected.\n",
            "HTTP request sent, awaiting response... 200 OK\n",
            "Length: 2542 (2.5K) [text/plain]\n",
            "Saving to: ‘glue_schema_rename.py’\n",
            "\n",
            "\rglue_schema_rename.   0%[                    ]       0  --.-KB/s               \rglue_schema_rename. 100%[===================>]   2.48K  --.-KB/s    in 0s      \n",
            "\n",
            "2021-05-04 19:25:45 (38.7 MB/s) - ‘glue_schema_rename.py’ saved [2542/2542]\n",
            "\n"
          ],
          "name": "stdout"
        }
      ]
    },
    {
      "cell_type": "code",
      "metadata": {
        "id": "zVs_7yT-977y",
        "colab": {
          "base_uri": "https://localhost:8080/"
        },
        "outputId": "ab3d3448-285d-4fa1-f378-e2ed6e94f0ef"
      },
      "source": [
        "from glue_schema_rename import rename_glue_schema\n",
        "rename_glue_schema('tf-cadabra_glue','salestransactions')"
      ],
      "execution_count": null,
      "outputs": [
        {
          "output_type": "stream",
          "text": [
            "{'Name': 'invoiceno', 'Type': 'bigint'}\n",
            "{'Name': 'stockcode', 'Type': 'string'}\n",
            "{'Name': 'description', 'Type': 'string'}\n",
            "{'Name': 'quantity', 'Type': 'bigint'}\n",
            "{'Name': 'invoicedate', 'Type': 'string'}\n",
            "{'Name': 'unitprice', 'Type': 'double'}\n",
            "{'Name': 'customerid', 'Type': 'bigint'}\n",
            "{'Name': 'country', 'Type': 'string'}\n",
            "{'Name': 'year', 'Type': 'string'}\n",
            "{'Name': 'month', 'Type': 'string'}\n",
            "{'Name': 'day', 'Type': 'string'}\n",
            "{'Name': 'hour', 'Type': 'string'}\n",
            "Rename Complete\n"
          ],
          "name": "stdout"
        }
      ]
    },
    {
      "cell_type": "markdown",
      "metadata": {
        "id": "dSXCtlJPXuHY"
      },
      "source": [
        "# Generate Huge Data"
      ]
    },
    {
      "cell_type": "code",
      "metadata": {
        "id": "Yo7Hrf9sXnnF",
        "colab": {
          "base_uri": "https://localhost:8080/"
        },
        "outputId": "a85e5412-f142-4dad-b740-f0194273d8b4"
      },
      "source": [
        "#!aws s3 rm --recursive s3://tf-{NAME_INITIALS}-cadabra\n",
        "#!aws s3 rm --recursive s3://tf-{NAME_INITIALS}-failed-http-logs\n",
        "#!aws s3 rm --recursive s3://tf-{NAME_INITIALS}-redshift-stage-sales"
      ],
      "execution_count": null,
      "outputs": [
        {
          "output_type": "stream",
          "text": [
            "delete: s3://tf-vg-cadabra/SalesTransactions/2021/05/04/19/tf-cadabra_batch_sales-1-2021-05-04-19-13-39-4b4b2179-baa7-4432-930a-dfc5bc232938\n",
            "delete: s3://tf-vg-redshift-stage-sales/2021/05/04/19/tf-redshift-deliverystream-1-2021-05-04-19-13-39-b02a4bc6-d9c3-438c-8e62-7ba915bfe92d\n"
          ],
          "name": "stdout"
        }
      ]
    },
    {
      "cell_type": "code",
      "metadata": {
        "id": "KtcMTSfQyQza"
      },
      "source": [
        "from transaction_generator import generateTransactions\n",
        "one_m_file = TRANSACTIONS_DIR+\"test_1M.log\"\n",
        "generateTransactions(n=int(10**4.1),OutFile=one_m_file)"
      ],
      "execution_count": null,
      "outputs": []
    },
    {
      "cell_type": "code",
      "metadata": {
        "id": "j43fSbzMyOSI"
      },
      "source": [
        "!ls -alh /data/"
      ],
      "execution_count": null,
      "outputs": []
    },
    {
      "cell_type": "code",
      "metadata": {
        "id": "8D2zYYrcyn1P"
      },
      "source": [
        "def log_1g(n=3):\n",
        "    suffix = [\"1M\",\"10M\",\"100M\",\"1G\",\"10G\",\"100G\",\"1TB\"]\n",
        "    f = open(one_m_file)\n",
        "    lines = f.read()\n",
        "    f_out = open(\"/data/test_\" + suffix[n] + \".csv\",\"w\")\n",
        "    for i in range(10**n):\n",
        "        f_out.write(lines)\n",
        "    f_out.close()\n"
      ],
      "execution_count": null,
      "outputs": []
    },
    {
      "cell_type": "code",
      "metadata": {
        "id": "1TpYxOH43e8c"
      },
      "source": [
        "for i in range(1,5):\n",
        "    log_1g(i)"
      ],
      "execution_count": null,
      "outputs": []
    },
    {
      "cell_type": "code",
      "metadata": {
        "id": "2PqAO-Vy1lFc"
      },
      "source": [
        "!ls -alh /data/"
      ],
      "execution_count": null,
      "outputs": []
    },
    {
      "cell_type": "code",
      "metadata": {
        "id": "-kilg0n11tu1"
      },
      "source": [
        "!mv /data/test_10M.csv /data/test_10M.log"
      ],
      "execution_count": null,
      "outputs": []
    },
    {
      "cell_type": "code",
      "metadata": {
        "id": "8aqAzg7pbRh8"
      },
      "source": [
        "import pprint"
      ],
      "execution_count": null,
      "outputs": []
    },
    {
      "cell_type": "code",
      "metadata": {
        "id": "S3zMEW2223na"
      },
      "source": [
        "import boto3\n",
        "\n",
        "client = boto3.client('dynamodb','us-west-2')\n",
        "table = dynamoDBClient.describe_table(TableName='tf-CadabraOrders')\n",
        "pprint.pprint(table)"
      ],
      "execution_count": null,
      "outputs": []
    },
    {
      "cell_type": "code",
      "metadata": {
        "id": "rRzzg1L-aOc-"
      },
      "source": [
        "import boto3\n",
        "\n",
        "dynamoDBResource = boto3.resource('dynamodb')\n",
        "table = dynamoDBResource.Table('tf-CadabraOrders')\n",
        "print(table.item_count)"
      ],
      "execution_count": null,
      "outputs": []
    },
    {
      "cell_type": "code",
      "metadata": {
        "id": "4TXbEQLHad4C"
      },
      "source": [
        "client = boto3.client('dynamodb','us-west-2')\n",
        "response = client.describe_table(TableName='tf-CadabraOrders')\n",
        "print(response['Table']['ItemCount'])"
      ],
      "execution_count": null,
      "outputs": []
    },
    {
      "cell_type": "code",
      "metadata": {
        "id": "icWY0MRubMOp"
      },
      "source": [
        ""
      ],
      "execution_count": null,
      "outputs": []
    }
  ]
}