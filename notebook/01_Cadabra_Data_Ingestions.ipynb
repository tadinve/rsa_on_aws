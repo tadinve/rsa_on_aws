{
  "nbformat": 4,
  "nbformat_minor": 0,
  "metadata": {
    "colab": {
      "name": "01 Cadabra Data Ingestions.ipynb",
      "provenance": [],
      "collapsed_sections": [
        "uPrkSIssJCCq",
        "m1pVTGI7JNW_",
        "JY0xxq_x7LQ-",
        "EPmohfzuVwp3",
        "J4DKbixDV0_N",
        "7t5S3u9BWIgv",
        "2okU2OA1WL7b"
      ],
      "include_colab_link": true
    },
    "kernelspec": {
      "name": "python3",
      "display_name": "Python 3"
    }
  },
  "cells": [
    {
      "cell_type": "markdown",
      "metadata": {
        "id": "view-in-github",
        "colab_type": "text"
      },
      "source": [
        "<a href=\"https://colab.research.google.com/github/tadinve/rsa_on_aws/blob/main/notebook/01_Cadabra_Data_Ingestions.ipynb\" target=\"_parent\"><img src=\"https://colab.research.google.com/assets/colab-badge.svg\" alt=\"Open In Colab\"/></a>"
      ]
    },
    {
      "cell_type": "markdown",
      "metadata": {
        "id": "mYJkZeJC5vtq"
      },
      "source": [
        "# Step 0 - AWS Setup"
      ]
    },
    {
      "cell_type": "markdown",
      "metadata": {
        "id": "1De4a8qrBH69"
      },
      "source": [
        "\n",
        "1. Do this only Once\n",
        "- Create an account in AWS\n",
        "- Create an IAM User and downlod credentials file (you will need access and secret key)\n",
        "- run aws init\n",
        "- copy credentials file to AWS_CRED_DIR\n"
      ]
    },
    {
      "cell_type": "code",
      "metadata": {
        "id": "CLzpxc8VMKxd"
      },
      "source": [
        "%%bash\n",
        "curl \"https://awscli.amazonaws.com/awscli-exe-linux-x86_64.zip\" -o \"awscliv2.zip\"\n",
        "unzip -qq awscliv2.zip\n",
        "sudo ./aws/install"
      ],
      "execution_count": null,
      "outputs": []
    },
    {
      "cell_type": "code",
      "metadata": {
        "id": "s6Qvxai24guQ"
      },
      "source": [
        "from google.colab import drive\n",
        "drive.mount('/gdrive')"
      ],
      "execution_count": null,
      "outputs": []
    },
    {
      "cell_type": "markdown",
      "metadata": {
        "id": "iZuhjFfVohAB"
      },
      "source": [
        "## Define Directory Variables"
      ]
    },
    {
      "cell_type": "code",
      "metadata": {
        "id": "ftSx-3PJaMCS"
      },
      "source": [
        "def escapeSlash(s):\n",
        "    return s.replace(\"/\",\"\\/\")"
      ],
      "execution_count": null,
      "outputs": []
    },
    {
      "cell_type": "code",
      "metadata": {
        "id": "u4it_odbqqEu"
      },
      "source": [
        "#python variables\n",
        "HOME = \"/root\"\n",
        "AWS_CRED_DIR = \"/gdrive/MyDrive/AWS/ca_dev/\"\n",
        "AWS_CRED_FILE = AWS_CRED_DIR + \"credentials\"\n",
        "AWS_CONFIG_FILE = AWS_CRED_DIR + \"config\"\n",
        "TF_DIR = \"/gdrive/MyDrive/AWS/AWS-TF/Cadabra\"\n",
        "TRANSACTIONS_DIR=\"/data/\"\n",
        "NAME_INITIALS = \"\" #ADD YOUR NAME INTIALS **********************************"
      ],
      "execution_count": null,
      "outputs": []
    },
    {
      "cell_type": "code",
      "metadata": {
        "id": "PQcUUJ_RogTD"
      },
      "source": [
        "#shell variables using python variables\n",
        "%env AWS_CRED_DIR={AWS_CRED_DIR}\n",
        "%env AWS_CRED_FILE={AWS_CRED_FILE}"
      ],
      "execution_count": null,
      "outputs": []
    },
    {
      "cell_type": "markdown",
      "metadata": {
        "id": "zmRlVCu0nUnm"
      },
      "source": [
        "## Check for Credentials file\n",
        "\n",
        "https://linuxize.com/post/bash-check-if-file-exists/"
      ]
    },
    {
      "cell_type": "code",
      "metadata": {
        "id": "l9jVWM94Cey1"
      },
      "source": [
        "%%bash\n",
        "if [ ! -f \"$AWS_CRED_FILE\" ]; then \n",
        "    aws configure \n",
        "fi"
      ],
      "execution_count": null,
      "outputs": []
    },
    {
      "cell_type": "code",
      "metadata": {
        "id": "BEg4jO9fMN5c"
      },
      "source": [
        "!mkdir -p ~/.aws\n",
        "!cp {AWS_CRED_DIR}c* ~/.aws"
      ],
      "execution_count": null,
      "outputs": []
    },
    {
      "cell_type": "code",
      "metadata": {
        "id": "6X3xaphDCsES"
      },
      "source": [
        "#Read the credentials\n",
        "f = open(AWS_CRED_FILE)\n",
        "header = f.readline()\n",
        "line = f.readline().split(\"=\")\n",
        "access_key=line[1].strip()\n",
        "line = f.readline().split(\"=\")\n",
        "secret_key=escapeSlash(line[1].strip())\n",
        "f.close()\n",
        "f = open(AWS_CONFIG_FILE)\n",
        "header = f.readline()\n",
        "line = f.readline().split(\"=\")\n",
        "user_region=line[1].strip()"
      ],
      "execution_count": null,
      "outputs": []
    },
    {
      "cell_type": "code",
      "metadata": {
        "id": "Sie1PqXq96RT"
      },
      "source": [
        "#import os\n",
        "#os.environ[\"AWS_ACCESS_KEY_ID\"]=access_key\n",
        "#os.environ[\"AWS_SECRET_ACCESS_KEY\"]=secret_key\n",
        "#os.environ[\"AWS_DEFAULT_REGION\"]=user_region\n",
        "#os.environ['AWS_PROFILE'] = \"default\""
      ],
      "execution_count": null,
      "outputs": []
    },
    {
      "cell_type": "markdown",
      "metadata": {
        "id": "573G_F7bF7ZL"
      },
      "source": [
        "# Install Kinesis & Start Agent\n",
        "\n"
      ]
    },
    {
      "cell_type": "markdown",
      "metadata": {
        "id": "uPrkSIssJCCq"
      },
      "source": [
        "## Install Java 1.8\n",
        "- needed by Kinesis build\n",
        "- from https://stackoverflow.com/questions/58106622/how-to-change-the-java-version-in-google-colab"
      ]
    },
    {
      "cell_type": "code",
      "metadata": {
        "id": "7C1NKF8QtzY7"
      },
      "source": [
        "%cd {HOME}"
      ],
      "execution_count": null,
      "outputs": []
    },
    {
      "cell_type": "code",
      "metadata": {
        "id": "s3my146JI1TX"
      },
      "source": [
        "!sudo apt-get update\n",
        "!apt-get install openjdk-8-jdk-headless -qq > /dev/null\n",
        "import os\n",
        "os.environ[\"JAVA_HOME\"] = \"/usr/lib/jvm/java-8-openjdk-amd64\"\n",
        "!update-alternatives --set java /usr/lib/jvm/java-8-openjdk-amd64/jre/bin/java\n",
        "!java -version"
      ],
      "execution_count": null,
      "outputs": []
    },
    {
      "cell_type": "markdown",
      "metadata": {
        "id": "m1pVTGI7JNW_"
      },
      "source": [
        "## Get Kinesis Code from Github and Build"
      ]
    },
    {
      "cell_type": "code",
      "metadata": {
        "id": "OMYQWbIdfmeN"
      },
      "source": [
        "cd {HOME}"
      ],
      "execution_count": null,
      "outputs": []
    },
    {
      "cell_type": "code",
      "metadata": {
        "id": "G-jAu0Q7WcdX"
      },
      "source": [
        "KINESIS_AGENT_VER = \"1.1.4\""
      ],
      "execution_count": null,
      "outputs": []
    },
    {
      "cell_type": "code",
      "metadata": {
        "id": "molNz6YECRyQ"
      },
      "source": [
        "!curl -LO https://github.com/awslabs/amazon-kinesis-agent/archive/{KINESIS_AGENT_VER}.tar.gz\n",
        "!tar -xvzf {KINESIS_AGENT_VER}.tar.gz"
      ],
      "execution_count": null,
      "outputs": []
    },
    {
      "cell_type": "code",
      "metadata": {
        "id": "QViz51Z5DdOE"
      },
      "source": [
        "!mv amazon-kinesis-agent-{KINESIS_AGENT_VER} amazon-kinesis-agent\n",
        "%cd amazon-kinesis-agent\n",
        "!sudo ./setup --install"
      ],
      "execution_count": null,
      "outputs": []
    },
    {
      "cell_type": "markdown",
      "metadata": {
        "id": "3mic1JMkJYNf"
      },
      "source": [
        "## Configure Kinesis Agent"
      ]
    },
    {
      "cell_type": "code",
      "metadata": {
        "id": "91gEJVNQRVH6"
      },
      "source": [
        "cd /etc/aws-kinesis"
      ],
      "execution_count": null,
      "outputs": []
    },
    {
      "cell_type": "code",
      "metadata": {
        "id": "4Zo-zj99tSRy"
      },
      "source": [
        "%%writefile agent.json\n",
        "{\n",
        "  \"cloudwatch.emitMetrics\": true,\n",
        "  \"awsAccessKeyId\": \"ACCESS_KEY\",\n",
        "  \"awsSecretAccessKey\": \"SECRET_KEY\",\n",
        "  \"firehose.endpoint\": \"firehose.USER_REGION.amazonaws.com\",\n",
        "  \"kinesis.endpoint\": \"kinesis.USER_REGION.amazonaws.com\",\n",
        " \n",
        "  \"flows\": [\n",
        "    {\n",
        "      \"filePattern\": \"/data/*.log\",\n",
        "      \"deliveryStream\": \"tf-cadabra_batch_sales\",\n",
        "      \"initialPosition\": \"START_OF_FILE\"\n",
        "    },\n",
        "    {\n",
        "      \"filePattern\": \"/data/*.log\",\n",
        "      \"kinesisStream\": \"tf-order-stream\",\n",
        "      \"partitionKeyOption\": \"RANDOM\",\n",
        "      \"dataProcessingOptions\": [\n",
        "         {\n",
        "            \"optionName\": \"CSVTOJSON\",\n",
        "            \"customFieldNames\": [\"InvoiceNo\", \"StockCode\", \"Description\", \"Quantity\", \"InvoiceDate\", \"UnitPrice\", \"Customer\", \"Country\"]\n",
        "         }\n",
        "      ]\n",
        "    },\n",
        "    {\n",
        "      \"filePattern\": \"/var/log/httpd/*.log\",\n",
        "      \"deliveryStream\": \"tf-weblogs\",\n",
        "      \"initialPosition\": \"START_OF_FILE\"\n",
        "    },\n",
        "    {\n",
        "      \"filePattern\": \"/data/*.log\",\n",
        "      \"kinesisStream\": \"tf-redshift-datastream\",\n",
        "      \"partitionKeyOption\": \"RANDOM\"\n",
        "    }\n",
        "  ]\n",
        "}"
      ],
      "execution_count": null,
      "outputs": []
    },
    {
      "cell_type": "code",
      "metadata": {
        "id": "V41_uLKrY7Ob"
      },
      "source": [
        "!sed -i 's/USER_REGION/{user_region}/g' agent.json\n",
        "!sed -i 's/ACCESS_KEY/{access_key}/g' agent.json\n",
        "!sed -i 's/SECRET_KEY/{secret_key}/g' agent.json"
      ],
      "execution_count": null,
      "outputs": []
    },
    {
      "cell_type": "code",
      "metadata": {
        "id": "a3UFmPjE3CeD"
      },
      "source": [
        "!cat agent.json"
      ],
      "execution_count": null,
      "outputs": []
    },
    {
      "cell_type": "code",
      "metadata": {
        "id": "ZBHBmBAwtrFP"
      },
      "source": [
        "!ls -alh /etc/aws-kinesis/ "
      ],
      "execution_count": null,
      "outputs": []
    },
    {
      "cell_type": "markdown",
      "metadata": {
        "id": "JY0xxq_x7LQ-"
      },
      "source": [
        "## Start Kinesis Agent"
      ]
    },
    {
      "cell_type": "code",
      "metadata": {
        "id": "u-x4ouzujC-7"
      },
      "source": [
        "!sudo service aws-kinesis-agent status"
      ],
      "execution_count": null,
      "outputs": []
    },
    {
      "cell_type": "code",
      "metadata": {
        "id": "A2vd_hWr7KR9"
      },
      "source": [
        "!sudo service aws-kinesis-agent start"
      ],
      "execution_count": null,
      "outputs": []
    },
    {
      "cell_type": "code",
      "metadata": {
        "id": "R5q7vg-haHx4"
      },
      "source": [
        "!sleep 30"
      ],
      "execution_count": null,
      "outputs": []
    },
    {
      "cell_type": "code",
      "metadata": {
        "id": "piIxzLSOaHx4"
      },
      "source": [
        "!cat /var/log/aws-kinesis-agent/aws-kinesis-agent.log  "
      ],
      "execution_count": null,
      "outputs": []
    },
    {
      "cell_type": "markdown",
      "metadata": {
        "id": "TmirzV9vaHx4"
      },
      "source": [
        "# Generate Data"
      ]
    },
    {
      "cell_type": "code",
      "metadata": {
        "id": "PaOHJVUnUW32"
      },
      "source": [
        "!mkdir -p {TRANSACTIONS_DIR}\n",
        "%cd {HOME}"
      ],
      "execution_count": null,
      "outputs": []
    },
    {
      "cell_type": "markdown",
      "metadata": {
        "id": "EPmohfzuVwp3"
      },
      "source": [
        "## Get Requirements"
      ]
    },
    {
      "cell_type": "code",
      "metadata": {
        "id": "8vGjAEdGWCI2"
      },
      "source": [
        "#get requirements.txt\n",
        "!wget --no-check-certificate -q 'https://docs.google.com/uc?export=download&id=1-HiavLHD1DPYov9YVyH-xJ4ggdN4AahF' -O requirements.txt"
      ],
      "execution_count": null,
      "outputs": []
    },
    {
      "cell_type": "code",
      "metadata": {
        "id": "wV0P2xGtWCI2"
      },
      "source": [
        "!pip install -r requirements.txt "
      ],
      "execution_count": null,
      "outputs": []
    },
    {
      "cell_type": "markdown",
      "metadata": {
        "id": "J4DKbixDV0_N"
      },
      "source": [
        "## Download Source Files and Data Template"
      ]
    },
    {
      "cell_type": "code",
      "metadata": {
        "id": "7l_Yl9ppxImI"
      },
      "source": [
        "!ls -ltr"
      ],
      "execution_count": null,
      "outputs": []
    },
    {
      "cell_type": "code",
      "metadata": {
        "id": "sTn6YMoEdgEb"
      },
      "source": [
        "!wget --no-check-certificate -q 'https://docs.google.com/uc?export=download&id=1gDonM3p8OKk9nKCb853N3jxLZ5qsE9pF' -O cadabra_products.csv"
      ],
      "execution_count": null,
      "outputs": []
    },
    {
      "cell_type": "code",
      "metadata": {
        "id": "ZOk4R5B-RvoS"
      },
      "source": [
        "!wget https://raw.githubusercontent.com/tadinve/rsa_on_aws/main/src/python_code/transaction_generator.py -O transaction_generator.py"
      ],
      "execution_count": null,
      "outputs": []
    },
    {
      "cell_type": "code",
      "metadata": {
        "id": "V3YAurspk_hr"
      },
      "source": [
        "!wget --no-check-certificate -q 'https://raw.githubusercontent.com/tadinve/rsa_on_aws/main/src/python_code/create_redshift_tables.py' -O create_redshift_tables.py"
      ],
      "execution_count": null,
      "outputs": []
    },
    {
      "cell_type": "code",
      "metadata": {
        "id": "sTo4nLg_lMKR"
      },
      "source": [
        "#Create Target Schema and Tables in Redshift\n",
        "from create_redshift_tables import create_schema_tables\n",
        "create_schema_tables('dev','awsuser')"
      ],
      "execution_count": null,
      "outputs": []
    },
    {
      "cell_type": "code",
      "metadata": {
        "id": "Tf8CCVOsDaFJ"
      },
      "source": [
        "!wget -O access.log.zip https://www.dropbox.com/s/8spgz9gfbeaa34k/KagglWebLogs.zip"
      ],
      "execution_count": null,
      "outputs": []
    },
    {
      "cell_type": "markdown",
      "metadata": {
        "id": "7t5S3u9BWIgv"
      },
      "source": [
        "## Generate Transactions"
      ]
    },
    {
      "cell_type": "code",
      "metadata": {
        "id": "SayKntZ37XTf"
      },
      "source": [
        "from transaction_generator import generateTransactions\n",
        "outfile = TRANSACTIONS_DIR+\"test.log\"\n",
        "generateTransactions(n=2500,OutFile=outfile)"
      ],
      "execution_count": null,
      "outputs": []
    },
    {
      "cell_type": "code",
      "metadata": {
        "id": "J3o7o-raaHx5"
      },
      "source": [
        "!head {outfile}"
      ],
      "execution_count": null,
      "outputs": []
    },
    {
      "cell_type": "code",
      "metadata": {
        "id": "4e2-SDeoaHx5"
      },
      "source": [
        "!sleep 60"
      ],
      "execution_count": null,
      "outputs": []
    },
    {
      "cell_type": "code",
      "metadata": {
        "id": "C1MCUZu8DcBE"
      },
      "source": [
        "!unzip access.log.zip\n",
        "!mkdir -p /var/log/httpd/\n",
        "!mv access.log /var/log/httpd/"
      ],
      "execution_count": null,
      "outputs": []
    },
    {
      "cell_type": "markdown",
      "metadata": {
        "id": "2okU2OA1WL7b"
      },
      "source": [
        "## Check Logs"
      ]
    },
    {
      "cell_type": "code",
      "metadata": {
        "id": "G7TXTE7baHx5"
      },
      "source": [
        "!tail /var/log/aws-kinesis-agent/aws-kinesis-agent.log  "
      ],
      "execution_count": null,
      "outputs": []
    },
    {
      "cell_type": "markdown",
      "metadata": {
        "id": "4Y2XHTyap5iF"
      },
      "source": [
        "# Run Glue Crawler using aws CLI"
      ]
    },
    {
      "cell_type": "code",
      "metadata": {
        "id": "xKGUnE_658tQ"
      },
      "source": [
        "%cd {HOME}"
      ],
      "execution_count": null,
      "outputs": []
    },
    {
      "cell_type": "code",
      "metadata": {
        "id": "OD45VIRqTF6k"
      },
      "source": [
        "!aws --version"
      ],
      "execution_count": null,
      "outputs": []
    },
    {
      "cell_type": "code",
      "metadata": {
        "id": "hT3YEVG3qAzF"
      },
      "source": [
        "!aws glue start-crawler --name tf-cadabra_crawler"
      ],
      "execution_count": null,
      "outputs": []
    },
    {
      "cell_type": "code",
      "metadata": {
        "id": "iNgo8iY98joM"
      },
      "source": [
        "!sleep 130"
      ],
      "execution_count": null,
      "outputs": []
    },
    {
      "cell_type": "code",
      "metadata": {
        "id": "AV4vg0CTSEKF"
      },
      "source": [
        "!wget https://raw.githubusercontent.com/tadinve/rsa_on_aws/main/src/python_code/glue_schema_rename.py "
      ],
      "execution_count": null,
      "outputs": []
    },
    {
      "cell_type": "code",
      "metadata": {
        "id": "zVs_7yT-977y"
      },
      "source": [
        "from glue_schema_rename import rename_glue_schema\n",
        "rename_glue_schema('tf-cadabra_glue','salestransactions')"
      ],
      "execution_count": null,
      "outputs": []
    },
    {
      "cell_type": "markdown",
      "metadata": {
        "id": "dSXCtlJPXuHY"
      },
      "source": [
        "# Generate Huge Data"
      ]
    },
    {
      "cell_type": "code",
      "metadata": {
        "id": "Yo7Hrf9sXnnF"
      },
      "source": [
        "#!aws s3 rm --recursive s3://tf-{NAME_INITIALS}-cadabra\n",
        "#!aws s3 rm --recursive s3://tf-{NAME_INITIALS}-failed-http-logs\n",
        "#!aws s3 rm --recursive s3://tf-{NAME_INITIALS}-redshift-stage-sales"
      ],
      "execution_count": null,
      "outputs": []
    },
    {
      "cell_type": "code",
      "metadata": {
        "id": "KtcMTSfQyQza"
      },
      "source": [
        "from transaction_generator import generateTransactions\n",
        "one_m_file = TRANSACTIONS_DIR+\"test_1M.log\"\n",
        "generateTransactions(n=int(10**4.1),OutFile=one_m_file)"
      ],
      "execution_count": null,
      "outputs": []
    },
    {
      "cell_type": "code",
      "metadata": {
        "id": "j43fSbzMyOSI"
      },
      "source": [
        "!ls -alh /data/"
      ],
      "execution_count": null,
      "outputs": []
    },
    {
      "cell_type": "code",
      "metadata": {
        "id": "8D2zYYrcyn1P"
      },
      "source": [
        "def log_1g(n=3):\n",
        "    suffix = [\"1M\",\"10M\",\"100M\",\"1G\",\"10G\",\"100G\",\"1TB\"]\n",
        "    f = open(one_m_file)\n",
        "    lines = f.read()\n",
        "    f_out = open(\"/data/test_\" + suffix[n] + \".csv\",\"w\")\n",
        "    for i in range(10**n):\n",
        "        f_out.write(lines)\n",
        "    f_out.close()\n"
      ],
      "execution_count": null,
      "outputs": []
    },
    {
      "cell_type": "code",
      "metadata": {
        "id": "1TpYxOH43e8c"
      },
      "source": [
        "for i in range(1,5):\n",
        "    log_1g(i)"
      ],
      "execution_count": null,
      "outputs": []
    },
    {
      "cell_type": "code",
      "metadata": {
        "id": "2PqAO-Vy1lFc"
      },
      "source": [
        "!ls -alh /data/"
      ],
      "execution_count": null,
      "outputs": []
    },
    {
      "cell_type": "code",
      "metadata": {
        "id": "-kilg0n11tu1"
      },
      "source": [
        "!mv /data/test_10M.csv /data/test_10M.log"
      ],
      "execution_count": null,
      "outputs": []
    },
    {
      "cell_type": "code",
      "metadata": {
        "id": "8aqAzg7pbRh8"
      },
      "source": [
        "import pprint"
      ],
      "execution_count": null,
      "outputs": []
    },
    {
      "cell_type": "code",
      "metadata": {
        "id": "S3zMEW2223na"
      },
      "source": [
        "import boto3\n",
        "\n",
        "client = boto3.client('dynamodb','us-west-2')\n",
        "table = dynamoDBClient.describe_table(TableName='tf-CadabraOrders')\n",
        "pprint.pprint(table)"
      ],
      "execution_count": null,
      "outputs": []
    },
    {
      "cell_type": "code",
      "metadata": {
        "id": "rRzzg1L-aOc-"
      },
      "source": [
        "import boto3\n",
        "\n",
        "dynamoDBResource = boto3.resource('dynamodb')\n",
        "table = dynamoDBResource.Table('tf-CadabraOrders')\n",
        "print(table.item_count)"
      ],
      "execution_count": null,
      "outputs": []
    },
    {
      "cell_type": "code",
      "metadata": {
        "id": "4TXbEQLHad4C"
      },
      "source": [
        "client = boto3.client('dynamodb','us-west-2')\n",
        "response = client.describe_table(TableName='tf-CadabraOrders')\n",
        "print(response['Table']['ItemCount'])"
      ],
      "execution_count": null,
      "outputs": []
    },
    {
      "cell_type": "code",
      "metadata": {
        "id": "icWY0MRubMOp"
      },
      "source": [
        ""
      ],
      "execution_count": null,
      "outputs": []
    }
  ]
}